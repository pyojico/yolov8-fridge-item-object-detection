{
  "nbformat": 4,
  "nbformat_minor": 0,
  "metadata": {
    "colab": {
      "provenance": [],
      "gpuType": "T4",
      "include_colab_link": true
    },
    "kernelspec": {
      "name": "python3",
      "display_name": "Python 3"
    },
    "language_info": {
      "name": "python"
    },
    "accelerator": "GPU"
  },
  "cells": [
    {
      "cell_type": "markdown",
      "metadata": {
        "id": "view-in-github",
        "colab_type": "text"
      },
      "source": [
        "<a href=\"https://colab.research.google.com/github/pyojico/yolov8-fridge-item-object-detection/blob/main/yolov8_fridge_item.ipynb\" target=\"_parent\"><img src=\"https://colab.research.google.com/assets/colab-badge.svg\" alt=\"Open In Colab\"/></a>"
      ]
    },
    {
      "cell_type": "markdown",
      "source": [
        "# **set up**\n"
      ],
      "metadata": {
        "id": "L2GtG2kuZRH2"
      }
    },
    {
      "cell_type": "code",
      "execution_count": null,
      "metadata": {
        "colab": {
          "base_uri": "https://localhost:8080/"
        },
        "id": "NhIC5ugLybaL",
        "outputId": "32569e18-08c2-4767-d711-76943451203a"
      },
      "outputs": [
        {
          "output_type": "stream",
          "name": "stdout",
          "text": [
            "Wed May 28 09:26:56 2025       \n",
            "+-----------------------------------------------------------------------------------------+\n",
            "| NVIDIA-SMI 550.54.15              Driver Version: 550.54.15      CUDA Version: 12.4     |\n",
            "|-----------------------------------------+------------------------+----------------------+\n",
            "| GPU  Name                 Persistence-M | Bus-Id          Disp.A | Volatile Uncorr. ECC |\n",
            "| Fan  Temp   Perf          Pwr:Usage/Cap |           Memory-Usage | GPU-Util  Compute M. |\n",
            "|                                         |                        |               MIG M. |\n",
            "|=========================================+========================+======================|\n",
            "|   0  Tesla T4                       Off |   00000000:00:04.0 Off |                    0 |\n",
            "| N/A   43C    P8             10W /   70W |       0MiB /  15360MiB |      0%      Default |\n",
            "|                                         |                        |                  N/A |\n",
            "+-----------------------------------------+------------------------+----------------------+\n",
            "                                                                                         \n",
            "+-----------------------------------------------------------------------------------------+\n",
            "| Processes:                                                                              |\n",
            "|  GPU   GI   CI        PID   Type   Process name                              GPU Memory |\n",
            "|        ID   ID                                                               Usage      |\n",
            "|=========================================================================================|\n",
            "|  No running processes found                                                             |\n",
            "+-----------------------------------------------------------------------------------------+\n"
          ]
        }
      ],
      "source": [
        "!nvidia-smi"
      ]
    },
    {
      "cell_type": "code",
      "source": [
        "import os\n",
        "HOME = os.getcwd()\n",
        "print(HOME)"
      ],
      "metadata": {
        "colab": {
          "base_uri": "https://localhost:8080/"
        },
        "id": "GBGKqzG2WR_2",
        "outputId": "3b4b79be-4bf8-43ef-9caa-46660e1a7701"
      },
      "execution_count": null,
      "outputs": [
        {
          "output_type": "stream",
          "name": "stdout",
          "text": [
            "/content\n"
          ]
        }
      ]
    },
    {
      "cell_type": "code",
      "source": [
        "# Pip install method (recommended)\n",
        "\n",
        "!pip install ultralytics==8.2.103 -q\n",
        "\n",
        "from IPython import display\n",
        "display.clear_output()\n",
        "\n",
        "import ultralytics\n",
        "ultralytics.checks()"
      ],
      "metadata": {
        "colab": {
          "base_uri": "https://localhost:8080/"
        },
        "id": "8aGdG4cEWgFU",
        "outputId": "33d6af89-7333-487f-eb45-9c39cad2aded"
      },
      "execution_count": null,
      "outputs": [
        {
          "output_type": "stream",
          "name": "stdout",
          "text": [
            "Ultralytics YOLOv8.2.103 🚀 Python-3.11.12 torch-2.6.0+cu124 CUDA:0 (Tesla T4, 15095MiB)\n",
            "Setup complete ✅ (2 CPUs, 12.7 GB RAM, 41.7/112.6 GB disk)\n"
          ]
        }
      ]
    },
    {
      "cell_type": "code",
      "source": [
        "from ultralytics import YOLO\n",
        "\n",
        "from IPython.display import display, Image"
      ],
      "metadata": {
        "id": "Wf2I0rdyWjkt"
      },
      "execution_count": null,
      "outputs": []
    },
    {
      "cell_type": "markdown",
      "source": [
        "# **custom training**"
      ],
      "metadata": {
        "id": "fNv8L0d_Zdg0"
      }
    },
    {
      "cell_type": "markdown",
      "source": [
        "# pasta dataset"
      ],
      "metadata": {
        "id": "ZpLLS9Rdg3PJ"
      }
    },
    {
      "cell_type": "code",
      "source": [
        "!pip install roboflow\n",
        "\n",
        "from roboflow import Roboflow\n",
        "rf = Roboflow(api_key=\"WtxFFcva4fhG2OS7YIXA\")\n",
        "project = rf.workspace(\"sages\").project(\"sauce-package\")\n",
        "version = project.version(1)\n",
        "dataset = version.download(\"yolov8\")"
      ],
      "metadata": {
        "colab": {
          "base_uri": "https://localhost:8080/"
        },
        "id": "chkcG2U1gzbZ",
        "outputId": "71bc44f0-600c-4c43-a289-920c953c6a7a"
      },
      "execution_count": null,
      "outputs": [
        {
          "output_type": "stream",
          "name": "stdout",
          "text": [
            "Requirement already satisfied: roboflow in /usr/local/lib/python3.11/dist-packages (1.1.64)\n",
            "Requirement already satisfied: certifi in /usr/local/lib/python3.11/dist-packages (from roboflow) (2025.4.26)\n",
            "Requirement already satisfied: idna==3.7 in /usr/local/lib/python3.11/dist-packages (from roboflow) (3.7)\n",
            "Requirement already satisfied: cycler in /usr/local/lib/python3.11/dist-packages (from roboflow) (0.12.1)\n",
            "Requirement already satisfied: kiwisolver>=1.3.1 in /usr/local/lib/python3.11/dist-packages (from roboflow) (1.4.8)\n",
            "Requirement already satisfied: matplotlib in /usr/local/lib/python3.11/dist-packages (from roboflow) (3.10.0)\n",
            "Requirement already satisfied: numpy>=1.18.5 in /usr/local/lib/python3.11/dist-packages (from roboflow) (1.26.4)\n",
            "Requirement already satisfied: opencv-python-headless==4.10.0.84 in /usr/local/lib/python3.11/dist-packages (from roboflow) (4.10.0.84)\n",
            "Requirement already satisfied: Pillow>=7.1.2 in /usr/local/lib/python3.11/dist-packages (from roboflow) (11.2.1)\n",
            "Requirement already satisfied: pillow-heif>=0.18.0 in /usr/local/lib/python3.11/dist-packages (from roboflow) (0.22.0)\n",
            "Requirement already satisfied: python-dateutil in /usr/local/lib/python3.11/dist-packages (from roboflow) (2.9.0.post0)\n",
            "Requirement already satisfied: python-dotenv in /usr/local/lib/python3.11/dist-packages (from roboflow) (1.1.0)\n",
            "Requirement already satisfied: requests in /usr/local/lib/python3.11/dist-packages (from roboflow) (2.32.3)\n",
            "Requirement already satisfied: six in /usr/local/lib/python3.11/dist-packages (from roboflow) (1.17.0)\n",
            "Requirement already satisfied: urllib3>=1.26.6 in /usr/local/lib/python3.11/dist-packages (from roboflow) (2.4.0)\n",
            "Requirement already satisfied: tqdm>=4.41.0 in /usr/local/lib/python3.11/dist-packages (from roboflow) (4.67.1)\n",
            "Requirement already satisfied: PyYAML>=5.3.1 in /usr/local/lib/python3.11/dist-packages (from roboflow) (6.0.2)\n",
            "Requirement already satisfied: requests-toolbelt in /usr/local/lib/python3.11/dist-packages (from roboflow) (1.0.0)\n",
            "Requirement already satisfied: filetype in /usr/local/lib/python3.11/dist-packages (from roboflow) (1.2.0)\n",
            "Requirement already satisfied: contourpy>=1.0.1 in /usr/local/lib/python3.11/dist-packages (from matplotlib->roboflow) (1.3.2)\n",
            "Requirement already satisfied: fonttools>=4.22.0 in /usr/local/lib/python3.11/dist-packages (from matplotlib->roboflow) (4.58.0)\n",
            "Requirement already satisfied: packaging>=20.0 in /usr/local/lib/python3.11/dist-packages (from matplotlib->roboflow) (24.2)\n",
            "Requirement already satisfied: pyparsing>=2.3.1 in /usr/local/lib/python3.11/dist-packages (from matplotlib->roboflow) (3.2.3)\n",
            "Requirement already satisfied: charset-normalizer<4,>=2 in /usr/local/lib/python3.11/dist-packages (from requests->roboflow) (3.4.2)\n",
            "loading Roboflow workspace...\n",
            "loading Roboflow project...\n"
          ]
        },
        {
          "output_type": "stream",
          "name": "stderr",
          "text": [
            "Downloading Dataset Version Zip in sauce-package-1 to yolov8:: 100%|██████████| 11599/11599 [00:00<00:00, 25899.99it/s]"
          ]
        },
        {
          "output_type": "stream",
          "name": "stdout",
          "text": [
            "\n"
          ]
        },
        {
          "output_type": "stream",
          "name": "stderr",
          "text": [
            "\n",
            "Extracting Dataset Version Zip to sauce-package-1 in yolov8:: 100%|██████████| 716/716 [00:00<00:00, 9675.32it/s]\n"
          ]
        }
      ]
    },
    {
      "cell_type": "code",
      "source": [
        "model = YOLO('yolov8n.pt')\n",
        "\n",
        "model.train(\n",
        "    data='/content/sauce-package-1/data.yaml',\n",
        "    epochs=20,\n",
        "    batch=16,\n",
        "    imgsz=640,\n",
        "    device=0\n",
        ")"
      ],
      "metadata": {
        "colab": {
          "base_uri": "https://localhost:8080/"
        },
        "id": "lij1IW2VXJAx",
        "outputId": "af758528-79a8-4cea-f6b9-0c787bacadf3"
      },
      "execution_count": null,
      "outputs": [
        {
          "output_type": "stream",
          "name": "stdout",
          "text": [
            "New https://pypi.org/project/ultralytics/8.3.146 available 😃 Update with 'pip install -U ultralytics'\n",
            "Ultralytics YOLOv8.2.103 🚀 Python-3.11.12 torch-2.6.0+cu124 CUDA:0 (Tesla T4, 15095MiB)\n",
            "\u001b[34m\u001b[1mengine/trainer: \u001b[0mtask=detect, mode=train, model=best.pt, data=/content/sauce-package-1/data.yaml, epochs=20, time=None, patience=100, batch=16, imgsz=640, save=True, save_period=-1, cache=False, device=0, workers=8, project=None, name=train, exist_ok=False, pretrained=True, optimizer=auto, verbose=True, seed=0, deterministic=True, single_cls=False, rect=False, cos_lr=False, close_mosaic=10, resume=False, amp=True, fraction=1.0, profile=False, freeze=None, multi_scale=False, overlap_mask=True, mask_ratio=4, dropout=0.0, val=True, split=val, save_json=False, save_hybrid=False, conf=None, iou=0.7, max_det=300, half=False, dnn=False, plots=True, source=None, vid_stride=1, stream_buffer=False, visualize=False, augment=False, agnostic_nms=False, classes=None, retina_masks=False, embed=None, show=False, save_frames=False, save_txt=False, save_conf=False, save_crop=False, show_labels=True, show_conf=True, show_boxes=True, line_width=None, format=torchscript, keras=False, optimize=False, int8=False, dynamic=False, simplify=True, opset=None, workspace=4, nms=False, lr0=0.01, lrf=0.01, momentum=0.937, weight_decay=0.0005, warmup_epochs=3.0, warmup_momentum=0.8, warmup_bias_lr=0.1, box=7.5, cls=0.5, dfl=1.5, pose=12.0, kobj=1.0, label_smoothing=0.0, nbs=64, hsv_h=0.015, hsv_s=0.7, hsv_v=0.4, degrees=0.0, translate=0.1, scale=0.5, shear=0.0, perspective=0.0, flipud=0.0, fliplr=0.5, bgr=0.0, mosaic=1.0, mixup=0.0, copy_paste=0.0, auto_augment=randaugment, erasing=0.4, crop_fraction=1.0, cfg=None, tracker=botsort.yaml, save_dir=runs/detect/train\n",
            "Downloading https://ultralytics.com/assets/Arial.ttf to '/root/.config/Ultralytics/Arial.ttf'...\n"
          ]
        },
        {
          "output_type": "stream",
          "name": "stderr",
          "text": [
            "100%|██████████| 755k/755k [00:00<00:00, 21.9MB/s]\n"
          ]
        },
        {
          "output_type": "stream",
          "name": "stdout",
          "text": [
            "Overriding model.yaml nc=2 with nc=3\n",
            "\n",
            "                   from  n    params  module                                       arguments                     \n",
            "  0                  -1  1       464  ultralytics.nn.modules.conv.Conv             [3, 16, 3, 2]                 \n",
            "  1                  -1  1      4672  ultralytics.nn.modules.conv.Conv             [16, 32, 3, 2]                \n",
            "  2                  -1  1      7360  ultralytics.nn.modules.block.C2f             [32, 32, 1, True]             \n",
            "  3                  -1  1     18560  ultralytics.nn.modules.conv.Conv             [32, 64, 3, 2]                \n",
            "  4                  -1  2     49664  ultralytics.nn.modules.block.C2f             [64, 64, 2, True]             \n",
            "  5                  -1  1     73984  ultralytics.nn.modules.conv.Conv             [64, 128, 3, 2]               \n",
            "  6                  -1  2    197632  ultralytics.nn.modules.block.C2f             [128, 128, 2, True]           \n",
            "  7                  -1  1    295424  ultralytics.nn.modules.conv.Conv             [128, 256, 3, 2]              \n",
            "  8                  -1  1    460288  ultralytics.nn.modules.block.C2f             [256, 256, 1, True]           \n",
            "  9                  -1  1    164608  ultralytics.nn.modules.block.SPPF            [256, 256, 5]                 \n",
            " 10                  -1  1         0  torch.nn.modules.upsampling.Upsample         [None, 2, 'nearest']          \n",
            " 11             [-1, 6]  1         0  ultralytics.nn.modules.conv.Concat           [1]                           \n",
            " 12                  -1  1    148224  ultralytics.nn.modules.block.C2f             [384, 128, 1]                 \n",
            " 13                  -1  1         0  torch.nn.modules.upsampling.Upsample         [None, 2, 'nearest']          \n",
            " 14             [-1, 4]  1         0  ultralytics.nn.modules.conv.Concat           [1]                           \n",
            " 15                  -1  1     37248  ultralytics.nn.modules.block.C2f             [192, 64, 1]                  \n",
            " 16                  -1  1     36992  ultralytics.nn.modules.conv.Conv             [64, 64, 3, 2]                \n",
            " 17            [-1, 12]  1         0  ultralytics.nn.modules.conv.Concat           [1]                           \n",
            " 18                  -1  1    123648  ultralytics.nn.modules.block.C2f             [192, 128, 1]                 \n",
            " 19                  -1  1    147712  ultralytics.nn.modules.conv.Conv             [128, 128, 3, 2]              \n",
            " 20             [-1, 9]  1         0  ultralytics.nn.modules.conv.Concat           [1]                           \n",
            " 21                  -1  1    493056  ultralytics.nn.modules.block.C2f             [384, 256, 1]                 \n",
            " 22        [15, 18, 21]  1    751897  ultralytics.nn.modules.head.Detect           [3, [64, 128, 256]]           \n",
            "Model summary: 225 layers, 3,011,433 parameters, 3,011,417 gradients, 8.2 GFLOPs\n",
            "\n",
            "Transferred 349/355 items from pretrained weights\n",
            "\u001b[34m\u001b[1mTensorBoard: \u001b[0mStart with 'tensorboard --logdir runs/detect/train', view at http://localhost:6006/\n",
            "Freezing layer 'model.22.dfl.conv.weight'\n",
            "\u001b[34m\u001b[1mAMP: \u001b[0mrunning Automatic Mixed Precision (AMP) checks with YOLOv8n...\n",
            "Downloading https://github.com/ultralytics/assets/releases/download/v8.2.0/yolov8n.pt to 'yolov8n.pt'...\n"
          ]
        },
        {
          "output_type": "stream",
          "name": "stderr",
          "text": [
            "100%|██████████| 6.25M/6.25M [00:00<00:00, 117MB/s]\n"
          ]
        },
        {
          "output_type": "stream",
          "name": "stdout",
          "text": [
            "\u001b[34m\u001b[1mAMP: \u001b[0mchecks passed ✅\n"
          ]
        },
        {
          "output_type": "stream",
          "name": "stderr",
          "text": [
            "\u001b[34m\u001b[1mtrain: \u001b[0mScanning /content/sauce-package-1/train/labels... 309 images, 0 backgrounds, 0 corrupt: 100%|██████████| 309/309 [00:00<00:00, 2335.78it/s]"
          ]
        },
        {
          "output_type": "stream",
          "name": "stdout",
          "text": [
            "\u001b[34m\u001b[1mtrain: \u001b[0mNew cache created: /content/sauce-package-1/train/labels.cache\n"
          ]
        },
        {
          "output_type": "stream",
          "name": "stderr",
          "text": [
            "\n"
          ]
        },
        {
          "output_type": "stream",
          "name": "stdout",
          "text": [
            "\u001b[34m\u001b[1malbumentations: \u001b[0mBlur(p=0.01, blur_limit=(3, 7)), MedianBlur(p=0.01, blur_limit=(3, 7)), ToGray(p=0.01, method='weighted_average', num_output_channels=3), CLAHE(p=0.01, clip_limit=(1.0, 4.0), tile_grid_size=(8, 8))\n"
          ]
        },
        {
          "output_type": "stream",
          "name": "stderr",
          "text": [
            "A new version of Albumentations is available: '2.0.8' (you have '2.0.7'). Upgrade using: pip install -U albumentations. To disable automatic update checks, set the environment variable NO_ALBUMENTATIONS_UPDATE to 1.\n",
            "Argument(s) 'quality_lower' are not valid for transform ImageCompression\n",
            "\u001b[34m\u001b[1mval: \u001b[0mScanning /content/sauce-package-1/valid/labels... 29 images, 0 backgrounds, 0 corrupt: 100%|██████████| 29/29 [00:00<00:00, 1077.18it/s]"
          ]
        },
        {
          "output_type": "stream",
          "name": "stdout",
          "text": [
            "\u001b[34m\u001b[1mval: \u001b[0mNew cache created: /content/sauce-package-1/valid/labels.cache\n"
          ]
        },
        {
          "output_type": "stream",
          "name": "stderr",
          "text": [
            "\n"
          ]
        },
        {
          "output_type": "stream",
          "name": "stdout",
          "text": [
            "Plotting labels to runs/detect/train/labels.jpg... \n",
            "\u001b[34m\u001b[1moptimizer:\u001b[0m 'optimizer=auto' found, ignoring 'lr0=0.01' and 'momentum=0.937' and determining best 'optimizer', 'lr0' and 'momentum' automatically... \n",
            "\u001b[34m\u001b[1moptimizer:\u001b[0m AdamW(lr=0.001429, momentum=0.9) with parameter groups 57 weight(decay=0.0), 64 weight(decay=0.0005), 63 bias(decay=0.0)\n",
            "\u001b[34m\u001b[1mTensorBoard: \u001b[0mmodel graph visualization added ✅\n",
            "Image sizes 640 train, 640 val\n",
            "Using 2 dataloader workers\n",
            "Logging results to \u001b[1mruns/detect/train\u001b[0m\n",
            "Starting training for 20 epochs...\n",
            "\n",
            "      Epoch    GPU_mem   box_loss   cls_loss   dfl_loss  Instances       Size\n"
          ]
        },
        {
          "output_type": "stream",
          "name": "stderr",
          "text": [
            "       1/20      2.33G      1.518      3.055      1.939          9        640: 100%|██████████| 20/20 [00:06<00:00,  2.95it/s]\n",
            "                 Class     Images  Instances      Box(P          R      mAP50  mAP50-95): 100%|██████████| 1/1 [00:01<00:00,  1.26s/it]"
          ]
        },
        {
          "output_type": "stream",
          "name": "stdout",
          "text": [
            "                   all         29         29      0.992      0.828      0.968      0.574\n"
          ]
        },
        {
          "output_type": "stream",
          "name": "stderr",
          "text": [
            "\n"
          ]
        },
        {
          "output_type": "stream",
          "name": "stdout",
          "text": [
            "\n",
            "      Epoch    GPU_mem   box_loss   cls_loss   dfl_loss  Instances       Size\n"
          ]
        },
        {
          "output_type": "stream",
          "name": "stderr",
          "text": [
            "       2/20       2.2G      1.475      2.093      1.824         14        640: 100%|██████████| 20/20 [00:06<00:00,  3.24it/s]\n",
            "                 Class     Images  Instances      Box(P          R      mAP50  mAP50-95): 100%|██████████| 1/1 [00:00<00:00,  2.49it/s]"
          ]
        },
        {
          "output_type": "stream",
          "name": "stdout",
          "text": [
            "                   all         29         29      0.566      0.764      0.701      0.301\n"
          ]
        },
        {
          "output_type": "stream",
          "name": "stderr",
          "text": [
            "\n"
          ]
        },
        {
          "output_type": "stream",
          "name": "stdout",
          "text": [
            "\n",
            "      Epoch    GPU_mem   box_loss   cls_loss   dfl_loss  Instances       Size\n"
          ]
        },
        {
          "output_type": "stream",
          "name": "stderr",
          "text": [
            "       3/20      2.21G      1.406       1.93      1.754         11        640: 100%|██████████| 20/20 [00:04<00:00,  4.46it/s]\n",
            "                 Class     Images  Instances      Box(P          R      mAP50  mAP50-95): 100%|██████████| 1/1 [00:00<00:00,  2.29it/s]"
          ]
        },
        {
          "output_type": "stream",
          "name": "stdout",
          "text": [
            "                   all         29         29      0.875      0.965      0.928      0.573\n"
          ]
        },
        {
          "output_type": "stream",
          "name": "stderr",
          "text": [
            "\n"
          ]
        },
        {
          "output_type": "stream",
          "name": "stdout",
          "text": [
            "\n",
            "      Epoch    GPU_mem   box_loss   cls_loss   dfl_loss  Instances       Size\n"
          ]
        },
        {
          "output_type": "stream",
          "name": "stderr",
          "text": [
            "       4/20       2.2G      1.377      1.798      1.688         11        640: 100%|██████████| 20/20 [00:06<00:00,  3.25it/s]\n",
            "                 Class     Images  Instances      Box(P          R      mAP50  mAP50-95): 100%|██████████| 1/1 [00:00<00:00,  2.69it/s]"
          ]
        },
        {
          "output_type": "stream",
          "name": "stdout",
          "text": [
            "                   all         29         29      0.886      0.897      0.929      0.572\n"
          ]
        },
        {
          "output_type": "stream",
          "name": "stderr",
          "text": [
            "\n"
          ]
        },
        {
          "output_type": "stream",
          "name": "stdout",
          "text": [
            "\n",
            "      Epoch    GPU_mem   box_loss   cls_loss   dfl_loss  Instances       Size\n"
          ]
        },
        {
          "output_type": "stream",
          "name": "stderr",
          "text": [
            "       5/20      2.24G      1.389      1.761      1.701         14        640: 100%|██████████| 20/20 [00:04<00:00,  4.54it/s]\n",
            "                 Class     Images  Instances      Box(P          R      mAP50  mAP50-95): 100%|██████████| 1/1 [00:00<00:00,  3.05it/s]"
          ]
        },
        {
          "output_type": "stream",
          "name": "stdout",
          "text": [
            "                   all         29         29      0.882      0.828      0.907      0.524\n"
          ]
        },
        {
          "output_type": "stream",
          "name": "stderr",
          "text": [
            "\n"
          ]
        },
        {
          "output_type": "stream",
          "name": "stdout",
          "text": [
            "\n",
            "      Epoch    GPU_mem   box_loss   cls_loss   dfl_loss  Instances       Size\n"
          ]
        },
        {
          "output_type": "stream",
          "name": "stderr",
          "text": [
            "       6/20       2.2G      1.308      1.609      1.615         12        640: 100%|██████████| 20/20 [00:06<00:00,  3.21it/s]\n",
            "                 Class     Images  Instances      Box(P          R      mAP50  mAP50-95): 100%|██████████| 1/1 [00:00<00:00,  2.72it/s]"
          ]
        },
        {
          "output_type": "stream",
          "name": "stdout",
          "text": [
            "                   all         29         29      0.769      0.931      0.927      0.407\n"
          ]
        },
        {
          "output_type": "stream",
          "name": "stderr",
          "text": [
            "\n"
          ]
        },
        {
          "output_type": "stream",
          "name": "stdout",
          "text": [
            "\n",
            "      Epoch    GPU_mem   box_loss   cls_loss   dfl_loss  Instances       Size\n"
          ]
        },
        {
          "output_type": "stream",
          "name": "stderr",
          "text": [
            "       7/20       2.2G      1.343      1.587      1.668         10        640: 100%|██████████| 20/20 [00:04<00:00,  4.36it/s]\n",
            "                 Class     Images  Instances      Box(P          R      mAP50  mAP50-95): 100%|██████████| 1/1 [00:00<00:00,  3.14it/s]"
          ]
        },
        {
          "output_type": "stream",
          "name": "stdout",
          "text": [
            "                   all         29         29      0.998      0.931      0.982       0.61\n"
          ]
        },
        {
          "output_type": "stream",
          "name": "stderr",
          "text": [
            "\n"
          ]
        },
        {
          "output_type": "stream",
          "name": "stdout",
          "text": [
            "\n",
            "      Epoch    GPU_mem   box_loss   cls_loss   dfl_loss  Instances       Size\n"
          ]
        },
        {
          "output_type": "stream",
          "name": "stderr",
          "text": [
            "       8/20       2.2G      1.264       1.48      1.633         10        640: 100%|██████████| 20/20 [00:05<00:00,  3.44it/s]\n",
            "                 Class     Images  Instances      Box(P          R      mAP50  mAP50-95): 100%|██████████| 1/1 [00:00<00:00,  1.65it/s]"
          ]
        },
        {
          "output_type": "stream",
          "name": "stdout",
          "text": [
            "                   all         29         29      0.962      0.931      0.989      0.681\n"
          ]
        },
        {
          "output_type": "stream",
          "name": "stderr",
          "text": [
            "\n"
          ]
        },
        {
          "output_type": "stream",
          "name": "stdout",
          "text": [
            "\n",
            "      Epoch    GPU_mem   box_loss   cls_loss   dfl_loss  Instances       Size\n"
          ]
        },
        {
          "output_type": "stream",
          "name": "stderr",
          "text": [
            "       9/20       2.2G      1.234      1.382      1.578         11        640: 100%|██████████| 20/20 [00:04<00:00,  4.24it/s]\n",
            "                 Class     Images  Instances      Box(P          R      mAP50  mAP50-95): 100%|██████████| 1/1 [00:00<00:00,  3.18it/s]"
          ]
        },
        {
          "output_type": "stream",
          "name": "stdout",
          "text": [
            "                   all         29         29      0.973      0.931      0.986      0.692\n"
          ]
        },
        {
          "output_type": "stream",
          "name": "stderr",
          "text": [
            "\n"
          ]
        },
        {
          "output_type": "stream",
          "name": "stdout",
          "text": [
            "\n",
            "      Epoch    GPU_mem   box_loss   cls_loss   dfl_loss  Instances       Size\n"
          ]
        },
        {
          "output_type": "stream",
          "name": "stderr",
          "text": [
            "      10/20       2.2G      1.265      1.308      1.567          7        640: 100%|██████████| 20/20 [00:05<00:00,  3.99it/s]\n",
            "                 Class     Images  Instances      Box(P          R      mAP50  mAP50-95): 100%|██████████| 1/1 [00:00<00:00,  1.73it/s]"
          ]
        },
        {
          "output_type": "stream",
          "name": "stdout",
          "text": [
            "                   all         29         29      0.932      0.966       0.98      0.626\n"
          ]
        },
        {
          "output_type": "stream",
          "name": "stderr",
          "text": [
            "\n"
          ]
        },
        {
          "output_type": "stream",
          "name": "stdout",
          "text": [
            "Closing dataloader mosaic\n",
            "\u001b[34m\u001b[1malbumentations: \u001b[0mBlur(p=0.01, blur_limit=(3, 7)), MedianBlur(p=0.01, blur_limit=(3, 7)), ToGray(p=0.01, method='weighted_average', num_output_channels=3), CLAHE(p=0.01, clip_limit=(1.0, 4.0), tile_grid_size=(8, 8))\n"
          ]
        },
        {
          "output_type": "stream",
          "name": "stderr",
          "text": [
            "Argument(s) 'quality_lower' are not valid for transform ImageCompression\n"
          ]
        },
        {
          "output_type": "stream",
          "name": "stdout",
          "text": [
            "\n",
            "      Epoch    GPU_mem   box_loss   cls_loss   dfl_loss  Instances       Size\n"
          ]
        },
        {
          "output_type": "stream",
          "name": "stderr",
          "text": [
            "      11/20      2.28G      1.147      1.657      1.666          5        640: 100%|██████████| 20/20 [00:05<00:00,  3.37it/s]\n",
            "                 Class     Images  Instances      Box(P          R      mAP50  mAP50-95): 100%|██████████| 1/1 [00:00<00:00,  2.70it/s]"
          ]
        },
        {
          "output_type": "stream",
          "name": "stdout",
          "text": [
            "                   all         29         29      0.982      0.931      0.976      0.718\n"
          ]
        },
        {
          "output_type": "stream",
          "name": "stderr",
          "text": [
            "\n"
          ]
        },
        {
          "output_type": "stream",
          "name": "stdout",
          "text": [
            "\n",
            "      Epoch    GPU_mem   box_loss   cls_loss   dfl_loss  Instances       Size\n"
          ]
        },
        {
          "output_type": "stream",
          "name": "stderr",
          "text": [
            "      12/20      2.19G       1.12      1.382      1.628          5        640: 100%|██████████| 20/20 [00:05<00:00,  3.73it/s]\n",
            "                 Class     Images  Instances      Box(P          R      mAP50  mAP50-95): 100%|██████████| 1/1 [00:00<00:00,  1.49it/s]"
          ]
        },
        {
          "output_type": "stream",
          "name": "stdout",
          "text": [
            "                   all         29         29      0.964      0.966      0.985      0.737\n"
          ]
        },
        {
          "output_type": "stream",
          "name": "stderr",
          "text": [
            "\n"
          ]
        },
        {
          "output_type": "stream",
          "name": "stdout",
          "text": [
            "\n",
            "      Epoch    GPU_mem   box_loss   cls_loss   dfl_loss  Instances       Size\n"
          ]
        },
        {
          "output_type": "stream",
          "name": "stderr",
          "text": [
            "      13/20      2.19G      1.061      1.345      1.627          5        640: 100%|██████████| 20/20 [00:04<00:00,  4.55it/s]\n",
            "                 Class     Images  Instances      Box(P          R      mAP50  mAP50-95): 100%|██████████| 1/1 [00:00<00:00,  2.71it/s]"
          ]
        },
        {
          "output_type": "stream",
          "name": "stdout",
          "text": [
            "                   all         29         29      0.997      0.966      0.981        0.6\n"
          ]
        },
        {
          "output_type": "stream",
          "name": "stderr",
          "text": [
            "\n"
          ]
        },
        {
          "output_type": "stream",
          "name": "stdout",
          "text": [
            "\n",
            "      Epoch    GPU_mem   box_loss   cls_loss   dfl_loss  Instances       Size\n"
          ]
        },
        {
          "output_type": "stream",
          "name": "stderr",
          "text": [
            "      14/20      2.21G      1.028      1.266      1.562          5        640: 100%|██████████| 20/20 [00:04<00:00,  4.32it/s]\n",
            "                 Class     Images  Instances      Box(P          R      mAP50  mAP50-95): 100%|██████████| 1/1 [00:00<00:00,  1.82it/s]"
          ]
        },
        {
          "output_type": "stream",
          "name": "stdout",
          "text": [
            "                   all         29         29      0.996      0.966      0.987      0.716\n"
          ]
        },
        {
          "output_type": "stream",
          "name": "stderr",
          "text": [
            "\n"
          ]
        },
        {
          "output_type": "stream",
          "name": "stdout",
          "text": [
            "\n",
            "      Epoch    GPU_mem   box_loss   cls_loss   dfl_loss  Instances       Size\n"
          ]
        },
        {
          "output_type": "stream",
          "name": "stderr",
          "text": [
            "      15/20      2.19G      1.026      1.214      1.566          5        640: 100%|██████████| 20/20 [00:04<00:00,  4.18it/s]\n",
            "                 Class     Images  Instances      Box(P          R      mAP50  mAP50-95): 100%|██████████| 1/1 [00:00<00:00,  2.85it/s]"
          ]
        },
        {
          "output_type": "stream",
          "name": "stdout",
          "text": [
            "                   all         29         29      0.985      0.966      0.979       0.75\n"
          ]
        },
        {
          "output_type": "stream",
          "name": "stderr",
          "text": [
            "\n"
          ]
        },
        {
          "output_type": "stream",
          "name": "stdout",
          "text": [
            "\n",
            "      Epoch    GPU_mem   box_loss   cls_loss   dfl_loss  Instances       Size\n"
          ]
        },
        {
          "output_type": "stream",
          "name": "stderr",
          "text": [
            "      16/20      2.19G      0.933       1.13      1.472          5        640: 100%|██████████| 20/20 [00:04<00:00,  4.64it/s]\n",
            "                 Class     Images  Instances      Box(P          R      mAP50  mAP50-95): 100%|██████████| 1/1 [00:00<00:00,  2.66it/s]"
          ]
        },
        {
          "output_type": "stream",
          "name": "stdout",
          "text": [
            "                   all         29         29       0.99      0.966      0.974      0.726\n"
          ]
        },
        {
          "output_type": "stream",
          "name": "stderr",
          "text": [
            "\n"
          ]
        },
        {
          "output_type": "stream",
          "name": "stdout",
          "text": [
            "\n",
            "      Epoch    GPU_mem   box_loss   cls_loss   dfl_loss  Instances       Size\n"
          ]
        },
        {
          "output_type": "stream",
          "name": "stderr",
          "text": [
            "      17/20      2.19G     0.8828      1.054      1.428          5        640: 100%|██████████| 20/20 [00:05<00:00,  3.34it/s]\n",
            "                 Class     Images  Instances      Box(P          R      mAP50  mAP50-95): 100%|██████████| 1/1 [00:00<00:00,  2.72it/s]"
          ]
        },
        {
          "output_type": "stream",
          "name": "stdout",
          "text": [
            "                   all         29         29      0.999      0.966      0.969      0.737\n"
          ]
        },
        {
          "output_type": "stream",
          "name": "stderr",
          "text": [
            "\n"
          ]
        },
        {
          "output_type": "stream",
          "name": "stdout",
          "text": [
            "\n",
            "      Epoch    GPU_mem   box_loss   cls_loss   dfl_loss  Instances       Size\n"
          ]
        },
        {
          "output_type": "stream",
          "name": "stderr",
          "text": [
            "      18/20      2.19G      0.868      1.041      1.412          5        640: 100%|██████████| 20/20 [00:04<00:00,  4.53it/s]\n",
            "                 Class     Images  Instances      Box(P          R      mAP50  mAP50-95): 100%|██████████| 1/1 [00:00<00:00,  2.68it/s]"
          ]
        },
        {
          "output_type": "stream",
          "name": "stdout",
          "text": [
            "                   all         29         29      0.998      0.966      0.989      0.733\n"
          ]
        },
        {
          "output_type": "stream",
          "name": "stderr",
          "text": [
            "\n"
          ]
        },
        {
          "output_type": "stream",
          "name": "stdout",
          "text": [
            "\n",
            "      Epoch    GPU_mem   box_loss   cls_loss   dfl_loss  Instances       Size\n"
          ]
        },
        {
          "output_type": "stream",
          "name": "stderr",
          "text": [
            "      19/20      2.19G     0.7979      1.028      1.389          5        640: 100%|██████████| 20/20 [00:05<00:00,  3.40it/s]\n",
            "                 Class     Images  Instances      Box(P          R      mAP50  mAP50-95): 100%|██████████| 1/1 [00:00<00:00,  2.88it/s]"
          ]
        },
        {
          "output_type": "stream",
          "name": "stdout",
          "text": [
            "                   all         29         29      0.998      0.966      0.994       0.75\n"
          ]
        },
        {
          "output_type": "stream",
          "name": "stderr",
          "text": [
            "\n"
          ]
        },
        {
          "output_type": "stream",
          "name": "stdout",
          "text": [
            "\n",
            "      Epoch    GPU_mem   box_loss   cls_loss   dfl_loss  Instances       Size\n"
          ]
        },
        {
          "output_type": "stream",
          "name": "stderr",
          "text": [
            "      20/20      2.19G     0.8006     0.9665      1.365          5        640: 100%|██████████| 20/20 [00:04<00:00,  4.50it/s]\n",
            "                 Class     Images  Instances      Box(P          R      mAP50  mAP50-95): 100%|██████████| 1/1 [00:00<00:00,  2.79it/s]"
          ]
        },
        {
          "output_type": "stream",
          "name": "stdout",
          "text": [
            "                   all         29         29      0.998      0.966      0.993      0.738\n"
          ]
        },
        {
          "output_type": "stream",
          "name": "stderr",
          "text": [
            "\n"
          ]
        },
        {
          "output_type": "stream",
          "name": "stdout",
          "text": [
            "\n",
            "20 epochs completed in 0.039 hours.\n",
            "Optimizer stripped from runs/detect/train/weights/last.pt, 6.2MB\n",
            "Optimizer stripped from runs/detect/train/weights/best.pt, 6.2MB\n",
            "\n",
            "Validating runs/detect/train/weights/best.pt...\n",
            "Ultralytics YOLOv8.2.103 🚀 Python-3.11.12 torch-2.6.0+cu124 CUDA:0 (Tesla T4, 15095MiB)\n",
            "Model summary (fused): 168 layers, 3,006,233 parameters, 0 gradients, 8.1 GFLOPs\n"
          ]
        },
        {
          "output_type": "stream",
          "name": "stderr",
          "text": [
            "                 Class     Images  Instances      Box(P          R      mAP50  mAP50-95): 100%|██████████| 1/1 [00:00<00:00,  3.94it/s]\n"
          ]
        },
        {
          "output_type": "stream",
          "name": "stdout",
          "text": [
            "                   all         29         29      0.998      0.966      0.994      0.748\n",
            "  purple sauce package         29         29      0.998      0.966      0.994      0.748\n",
            "Speed: 0.2ms preprocess, 2.3ms inference, 0.0ms loss, 1.3ms postprocess per image\n",
            "Results saved to \u001b[1mruns/detect/train\u001b[0m\n"
          ]
        },
        {
          "output_type": "execute_result",
          "data": {
            "text/plain": [
              "ultralytics.utils.metrics.DetMetrics object with attributes:\n",
              "\n",
              "ap_class_index: array([0])\n",
              "box: ultralytics.utils.metrics.Metric object\n",
              "confusion_matrix: <ultralytics.utils.metrics.ConfusionMatrix object at 0x7bfacce1d9d0>\n",
              "curves: ['Precision-Recall(B)', 'F1-Confidence(B)', 'Precision-Confidence(B)', 'Recall-Confidence(B)']\n",
              "curves_results: [[array([          0,    0.001001,    0.002002,    0.003003,    0.004004,    0.005005,    0.006006,    0.007007,    0.008008,    0.009009,     0.01001,    0.011011,    0.012012,    0.013013,    0.014014,    0.015015,    0.016016,    0.017017,    0.018018,    0.019019,     0.02002,    0.021021,    0.022022,    0.023023,\n",
              "          0.024024,    0.025025,    0.026026,    0.027027,    0.028028,    0.029029,     0.03003,    0.031031,    0.032032,    0.033033,    0.034034,    0.035035,    0.036036,    0.037037,    0.038038,    0.039039,     0.04004,    0.041041,    0.042042,    0.043043,    0.044044,    0.045045,    0.046046,    0.047047,\n",
              "          0.048048,    0.049049,     0.05005,    0.051051,    0.052052,    0.053053,    0.054054,    0.055055,    0.056056,    0.057057,    0.058058,    0.059059,     0.06006,    0.061061,    0.062062,    0.063063,    0.064064,    0.065065,    0.066066,    0.067067,    0.068068,    0.069069,     0.07007,    0.071071,\n",
              "          0.072072,    0.073073,    0.074074,    0.075075,    0.076076,    0.077077,    0.078078,    0.079079,     0.08008,    0.081081,    0.082082,    0.083083,    0.084084,    0.085085,    0.086086,    0.087087,    0.088088,    0.089089,     0.09009,    0.091091,    0.092092,    0.093093,    0.094094,    0.095095,\n",
              "          0.096096,    0.097097,    0.098098,    0.099099,      0.1001,      0.1011,      0.1021,      0.1031,      0.1041,     0.10511,     0.10611,     0.10711,     0.10811,     0.10911,     0.11011,     0.11111,     0.11211,     0.11311,     0.11411,     0.11512,     0.11612,     0.11712,     0.11812,     0.11912,\n",
              "           0.12012,     0.12112,     0.12212,     0.12312,     0.12412,     0.12513,     0.12613,     0.12713,     0.12813,     0.12913,     0.13013,     0.13113,     0.13213,     0.13313,     0.13413,     0.13514,     0.13614,     0.13714,     0.13814,     0.13914,     0.14014,     0.14114,     0.14214,     0.14314,\n",
              "           0.14414,     0.14515,     0.14615,     0.14715,     0.14815,     0.14915,     0.15015,     0.15115,     0.15215,     0.15315,     0.15415,     0.15516,     0.15616,     0.15716,     0.15816,     0.15916,     0.16016,     0.16116,     0.16216,     0.16316,     0.16416,     0.16517,     0.16617,     0.16717,\n",
              "           0.16817,     0.16917,     0.17017,     0.17117,     0.17217,     0.17317,     0.17417,     0.17518,     0.17618,     0.17718,     0.17818,     0.17918,     0.18018,     0.18118,     0.18218,     0.18318,     0.18418,     0.18519,     0.18619,     0.18719,     0.18819,     0.18919,     0.19019,     0.19119,\n",
              "           0.19219,     0.19319,     0.19419,      0.1952,      0.1962,      0.1972,      0.1982,      0.1992,      0.2002,      0.2012,      0.2022,      0.2032,      0.2042,     0.20521,     0.20621,     0.20721,     0.20821,     0.20921,     0.21021,     0.21121,     0.21221,     0.21321,     0.21421,     0.21522,\n",
              "           0.21622,     0.21722,     0.21822,     0.21922,     0.22022,     0.22122,     0.22222,     0.22322,     0.22422,     0.22523,     0.22623,     0.22723,     0.22823,     0.22923,     0.23023,     0.23123,     0.23223,     0.23323,     0.23423,     0.23524,     0.23624,     0.23724,     0.23824,     0.23924,\n",
              "           0.24024,     0.24124,     0.24224,     0.24324,     0.24424,     0.24525,     0.24625,     0.24725,     0.24825,     0.24925,     0.25025,     0.25125,     0.25225,     0.25325,     0.25425,     0.25526,     0.25626,     0.25726,     0.25826,     0.25926,     0.26026,     0.26126,     0.26226,     0.26326,\n",
              "           0.26426,     0.26527,     0.26627,     0.26727,     0.26827,     0.26927,     0.27027,     0.27127,     0.27227,     0.27327,     0.27427,     0.27528,     0.27628,     0.27728,     0.27828,     0.27928,     0.28028,     0.28128,     0.28228,     0.28328,     0.28428,     0.28529,     0.28629,     0.28729,\n",
              "           0.28829,     0.28929,     0.29029,     0.29129,     0.29229,     0.29329,     0.29429,      0.2953,      0.2963,      0.2973,      0.2983,      0.2993,      0.3003,      0.3013,      0.3023,      0.3033,      0.3043,     0.30531,     0.30631,     0.30731,     0.30831,     0.30931,     0.31031,     0.31131,\n",
              "           0.31231,     0.31331,     0.31431,     0.31532,     0.31632,     0.31732,     0.31832,     0.31932,     0.32032,     0.32132,     0.32232,     0.32332,     0.32432,     0.32533,     0.32633,     0.32733,     0.32833,     0.32933,     0.33033,     0.33133,     0.33233,     0.33333,     0.33433,     0.33534,\n",
              "           0.33634,     0.33734,     0.33834,     0.33934,     0.34034,     0.34134,     0.34234,     0.34334,     0.34434,     0.34535,     0.34635,     0.34735,     0.34835,     0.34935,     0.35035,     0.35135,     0.35235,     0.35335,     0.35435,     0.35536,     0.35636,     0.35736,     0.35836,     0.35936,\n",
              "           0.36036,     0.36136,     0.36236,     0.36336,     0.36436,     0.36537,     0.36637,     0.36737,     0.36837,     0.36937,     0.37037,     0.37137,     0.37237,     0.37337,     0.37437,     0.37538,     0.37638,     0.37738,     0.37838,     0.37938,     0.38038,     0.38138,     0.38238,     0.38338,\n",
              "           0.38438,     0.38539,     0.38639,     0.38739,     0.38839,     0.38939,     0.39039,     0.39139,     0.39239,     0.39339,     0.39439,      0.3954,      0.3964,      0.3974,      0.3984,      0.3994,      0.4004,      0.4014,      0.4024,      0.4034,      0.4044,     0.40541,     0.40641,     0.40741,\n",
              "           0.40841,     0.40941,     0.41041,     0.41141,     0.41241,     0.41341,     0.41441,     0.41542,     0.41642,     0.41742,     0.41842,     0.41942,     0.42042,     0.42142,     0.42242,     0.42342,     0.42442,     0.42543,     0.42643,     0.42743,     0.42843,     0.42943,     0.43043,     0.43143,\n",
              "           0.43243,     0.43343,     0.43443,     0.43544,     0.43644,     0.43744,     0.43844,     0.43944,     0.44044,     0.44144,     0.44244,     0.44344,     0.44444,     0.44545,     0.44645,     0.44745,     0.44845,     0.44945,     0.45045,     0.45145,     0.45245,     0.45345,     0.45445,     0.45546,\n",
              "           0.45646,     0.45746,     0.45846,     0.45946,     0.46046,     0.46146,     0.46246,     0.46346,     0.46446,     0.46547,     0.46647,     0.46747,     0.46847,     0.46947,     0.47047,     0.47147,     0.47247,     0.47347,     0.47447,     0.47548,     0.47648,     0.47748,     0.47848,     0.47948,\n",
              "           0.48048,     0.48148,     0.48248,     0.48348,     0.48448,     0.48549,     0.48649,     0.48749,     0.48849,     0.48949,     0.49049,     0.49149,     0.49249,     0.49349,     0.49449,      0.4955,      0.4965,      0.4975,      0.4985,      0.4995,      0.5005,      0.5015,      0.5025,      0.5035,\n",
              "            0.5045,     0.50551,     0.50651,     0.50751,     0.50851,     0.50951,     0.51051,     0.51151,     0.51251,     0.51351,     0.51451,     0.51552,     0.51652,     0.51752,     0.51852,     0.51952,     0.52052,     0.52152,     0.52252,     0.52352,     0.52452,     0.52553,     0.52653,     0.52753,\n",
              "           0.52853,     0.52953,     0.53053,     0.53153,     0.53253,     0.53353,     0.53453,     0.53554,     0.53654,     0.53754,     0.53854,     0.53954,     0.54054,     0.54154,     0.54254,     0.54354,     0.54454,     0.54555,     0.54655,     0.54755,     0.54855,     0.54955,     0.55055,     0.55155,\n",
              "           0.55255,     0.55355,     0.55455,     0.55556,     0.55656,     0.55756,     0.55856,     0.55956,     0.56056,     0.56156,     0.56256,     0.56356,     0.56456,     0.56557,     0.56657,     0.56757,     0.56857,     0.56957,     0.57057,     0.57157,     0.57257,     0.57357,     0.57457,     0.57558,\n",
              "           0.57658,     0.57758,     0.57858,     0.57958,     0.58058,     0.58158,     0.58258,     0.58358,     0.58458,     0.58559,     0.58659,     0.58759,     0.58859,     0.58959,     0.59059,     0.59159,     0.59259,     0.59359,     0.59459,      0.5956,      0.5966,      0.5976,      0.5986,      0.5996,\n",
              "            0.6006,      0.6016,      0.6026,      0.6036,      0.6046,     0.60561,     0.60661,     0.60761,     0.60861,     0.60961,     0.61061,     0.61161,     0.61261,     0.61361,     0.61461,     0.61562,     0.61662,     0.61762,     0.61862,     0.61962,     0.62062,     0.62162,     0.62262,     0.62362,\n",
              "           0.62462,     0.62563,     0.62663,     0.62763,     0.62863,     0.62963,     0.63063,     0.63163,     0.63263,     0.63363,     0.63463,     0.63564,     0.63664,     0.63764,     0.63864,     0.63964,     0.64064,     0.64164,     0.64264,     0.64364,     0.64464,     0.64565,     0.64665,     0.64765,\n",
              "           0.64865,     0.64965,     0.65065,     0.65165,     0.65265,     0.65365,     0.65465,     0.65566,     0.65666,     0.65766,     0.65866,     0.65966,     0.66066,     0.66166,     0.66266,     0.66366,     0.66466,     0.66567,     0.66667,     0.66767,     0.66867,     0.66967,     0.67067,     0.67167,\n",
              "           0.67267,     0.67367,     0.67467,     0.67568,     0.67668,     0.67768,     0.67868,     0.67968,     0.68068,     0.68168,     0.68268,     0.68368,     0.68468,     0.68569,     0.68669,     0.68769,     0.68869,     0.68969,     0.69069,     0.69169,     0.69269,     0.69369,     0.69469,      0.6957,\n",
              "            0.6967,      0.6977,      0.6987,      0.6997,      0.7007,      0.7017,      0.7027,      0.7037,      0.7047,     0.70571,     0.70671,     0.70771,     0.70871,     0.70971,     0.71071,     0.71171,     0.71271,     0.71371,     0.71471,     0.71572,     0.71672,     0.71772,     0.71872,     0.71972,\n",
              "           0.72072,     0.72172,     0.72272,     0.72372,     0.72472,     0.72573,     0.72673,     0.72773,     0.72873,     0.72973,     0.73073,     0.73173,     0.73273,     0.73373,     0.73473,     0.73574,     0.73674,     0.73774,     0.73874,     0.73974,     0.74074,     0.74174,     0.74274,     0.74374,\n",
              "           0.74474,     0.74575,     0.74675,     0.74775,     0.74875,     0.74975,     0.75075,     0.75175,     0.75275,     0.75375,     0.75475,     0.75576,     0.75676,     0.75776,     0.75876,     0.75976,     0.76076,     0.76176,     0.76276,     0.76376,     0.76476,     0.76577,     0.76677,     0.76777,\n",
              "           0.76877,     0.76977,     0.77077,     0.77177,     0.77277,     0.77377,     0.77477,     0.77578,     0.77678,     0.77778,     0.77878,     0.77978,     0.78078,     0.78178,     0.78278,     0.78378,     0.78478,     0.78579,     0.78679,     0.78779,     0.78879,     0.78979,     0.79079,     0.79179,\n",
              "           0.79279,     0.79379,     0.79479,      0.7958,      0.7968,      0.7978,      0.7988,      0.7998,      0.8008,      0.8018,      0.8028,      0.8038,      0.8048,     0.80581,     0.80681,     0.80781,     0.80881,     0.80981,     0.81081,     0.81181,     0.81281,     0.81381,     0.81481,     0.81582,\n",
              "           0.81682,     0.81782,     0.81882,     0.81982,     0.82082,     0.82182,     0.82282,     0.82382,     0.82482,     0.82583,     0.82683,     0.82783,     0.82883,     0.82983,     0.83083,     0.83183,     0.83283,     0.83383,     0.83483,     0.83584,     0.83684,     0.83784,     0.83884,     0.83984,\n",
              "           0.84084,     0.84184,     0.84284,     0.84384,     0.84484,     0.84585,     0.84685,     0.84785,     0.84885,     0.84985,     0.85085,     0.85185,     0.85285,     0.85385,     0.85485,     0.85586,     0.85686,     0.85786,     0.85886,     0.85986,     0.86086,     0.86186,     0.86286,     0.86386,\n",
              "           0.86486,     0.86587,     0.86687,     0.86787,     0.86887,     0.86987,     0.87087,     0.87187,     0.87287,     0.87387,     0.87487,     0.87588,     0.87688,     0.87788,     0.87888,     0.87988,     0.88088,     0.88188,     0.88288,     0.88388,     0.88488,     0.88589,     0.88689,     0.88789,\n",
              "           0.88889,     0.88989,     0.89089,     0.89189,     0.89289,     0.89389,     0.89489,      0.8959,      0.8969,      0.8979,      0.8989,      0.8999,      0.9009,      0.9019,      0.9029,      0.9039,      0.9049,     0.90591,     0.90691,     0.90791,     0.90891,     0.90991,     0.91091,     0.91191,\n",
              "           0.91291,     0.91391,     0.91491,     0.91592,     0.91692,     0.91792,     0.91892,     0.91992,     0.92092,     0.92192,     0.92292,     0.92392,     0.92492,     0.92593,     0.92693,     0.92793,     0.92893,     0.92993,     0.93093,     0.93193,     0.93293,     0.93393,     0.93493,     0.93594,\n",
              "           0.93694,     0.93794,     0.93894,     0.93994,     0.94094,     0.94194,     0.94294,     0.94394,     0.94494,     0.94595,     0.94695,     0.94795,     0.94895,     0.94995,     0.95095,     0.95195,     0.95295,     0.95395,     0.95495,     0.95596,     0.95696,     0.95796,     0.95896,     0.95996,\n",
              "           0.96096,     0.96196,     0.96296,     0.96396,     0.96496,     0.96597,     0.96697,     0.96797,     0.96897,     0.96997,     0.97097,     0.97197,     0.97297,     0.97397,     0.97497,     0.97598,     0.97698,     0.97798,     0.97898,     0.97998,     0.98098,     0.98198,     0.98298,     0.98398,\n",
              "           0.98498,     0.98599,     0.98699,     0.98799,     0.98899,     0.98999,     0.99099,     0.99199,     0.99299,     0.99399,     0.99499,       0.996,       0.997,       0.998,       0.999,           1]), array([[          1,           1,           1,           1,           1,           1,           1,           1,           1,           1,           1,           1,           1,           1,           1,           1,           1,           1,           1,           1,           1,           1,           1,\n",
              "                  1,           1,           1,           1,           1,           1,           1,           1,           1,           1,           1,           1,           1,           1,           1,           1,           1,           1,           1,           1,           1,           1,           1,\n",
              "                  1,           1,           1,           1,           1,           1,           1,           1,           1,           1,           1,           1,           1,           1,           1,           1,           1,           1,           1,           1,           1,           1,           1,\n",
              "                  1,           1,           1,           1,           1,           1,           1,           1,           1,           1,           1,           1,           1,           1,           1,           1,           1,           1,           1,           1,           1,           1,           1,\n",
              "                  1,           1,           1,           1,           1,           1,           1,           1,           1,           1,           1,           1,           1,           1,           1,           1,           1,           1,           1,           1,           1,           1,           1,\n",
              "                  1,           1,           1,           1,           1,           1,           1,           1,           1,           1,           1,           1,           1,           1,           1,           1,           1,           1,           1,           1,           1,           1,           1,\n",
              "                  1,           1,           1,           1,           1,           1,           1,           1,           1,           1,           1,           1,           1,           1,           1,           1,           1,           1,           1,           1,           1,           1,           1,\n",
              "                  1,           1,           1,           1,           1,           1,           1,           1,           1,           1,           1,           1,           1,           1,           1,           1,           1,           1,           1,           1,           1,           1,           1,\n",
              "                  1,           1,           1,           1,           1,           1,           1,           1,           1,           1,           1,           1,           1,           1,           1,           1,           1,           1,           1,           1,           1,           1,           1,\n",
              "                  1,           1,           1,           1,           1,           1,           1,           1,           1,           1,           1,           1,           1,           1,           1,           1,           1,           1,           1,           1,           1,           1,           1,\n",
              "                  1,           1,           1,           1,           1,           1,           1,           1,           1,           1,           1,           1,           1,           1,           1,           1,           1,           1,           1,           1,           1,           1,           1,\n",
              "                  1,           1,           1,           1,           1,           1,           1,           1,           1,           1,           1,           1,           1,           1,           1,           1,           1,           1,           1,           1,           1,           1,           1,\n",
              "                  1,           1,           1,           1,           1,           1,           1,           1,           1,           1,           1,           1,           1,           1,           1,           1,           1,           1,           1,           1,           1,           1,           1,\n",
              "                  1,           1,           1,           1,           1,           1,           1,           1,           1,           1,           1,           1,           1,           1,           1,           1,           1,           1,           1,           1,           1,           1,           1,\n",
              "                  1,           1,           1,           1,           1,           1,           1,           1,           1,           1,           1,           1,           1,           1,           1,           1,           1,           1,           1,           1,           1,           1,           1,\n",
              "                  1,           1,           1,           1,           1,           1,           1,           1,           1,           1,           1,           1,           1,           1,           1,           1,           1,           1,           1,           1,           1,           1,           1,\n",
              "                  1,           1,           1,           1,           1,           1,           1,           1,           1,           1,           1,           1,           1,           1,           1,           1,           1,           1,           1,           1,           1,           1,           1,\n",
              "                  1,           1,           1,           1,           1,           1,           1,           1,           1,           1,           1,           1,           1,           1,           1,           1,           1,           1,           1,           1,           1,           1,           1,\n",
              "                  1,           1,           1,           1,           1,           1,           1,           1,           1,           1,           1,           1,           1,           1,           1,           1,           1,           1,           1,           1,           1,           1,           1,\n",
              "                  1,           1,           1,           1,           1,           1,           1,           1,           1,           1,           1,           1,           1,           1,           1,           1,           1,           1,           1,           1,           1,           1,           1,\n",
              "                  1,           1,           1,           1,           1,           1,           1,           1,           1,           1,           1,           1,           1,           1,           1,           1,           1,           1,           1,           1,           1,           1,           1,\n",
              "                  1,           1,           1,           1,           1,           1,           1,           1,           1,           1,           1,           1,           1,           1,           1,           1,           1,           1,           1,           1,           1,           1,           1,\n",
              "                  1,           1,           1,           1,           1,           1,           1,           1,           1,           1,           1,           1,           1,           1,           1,           1,           1,           1,           1,           1,           1,           1,           1,\n",
              "                  1,           1,           1,           1,           1,           1,           1,           1,           1,           1,           1,           1,           1,           1,           1,           1,           1,           1,           1,           1,           1,           1,           1,\n",
              "                  1,           1,           1,           1,           1,           1,           1,           1,           1,           1,           1,           1,           1,           1,           1,           1,           1,           1,           1,           1,           1,           1,           1,\n",
              "                  1,           1,           1,           1,           1,           1,           1,           1,           1,           1,           1,           1,           1,           1,           1,           1,           1,           1,           1,           1,           1,           1,           1,\n",
              "                  1,           1,           1,           1,           1,           1,           1,           1,           1,           1,           1,           1,           1,           1,           1,           1,           1,           1,           1,           1,           1,           1,           1,\n",
              "                  1,           1,           1,           1,           1,           1,           1,           1,           1,           1,           1,           1,           1,           1,           1,           1,           1,           1,           1,           1,           1,           1,           1,\n",
              "                  1,           1,           1,           1,           1,           1,           1,           1,           1,           1,           1,           1,           1,           1,           1,           1,           1,           1,           1,           1,           1,           1,           1,\n",
              "                  1,           1,           1,           1,           1,           1,           1,           1,           1,           1,           1,           1,           1,           1,           1,           1,           1,           1,           1,           1,           1,           1,           1,\n",
              "                  1,           1,           1,           1,           1,           1,           1,           1,           1,           1,           1,           1,           1,           1,           1,           1,           1,           1,           1,           1,           1,           1,           1,\n",
              "                  1,           1,           1,           1,           1,           1,           1,           1,           1,           1,           1,           1,           1,           1,           1,           1,           1,           1,           1,           1,           1,           1,           1,\n",
              "                  1,           1,           1,           1,           1,           1,           1,           1,           1,           1,           1,           1,           1,           1,           1,           1,           1,           1,           1,           1,           1,           1,           1,\n",
              "                  1,           1,           1,           1,           1,           1,           1,           1,           1,           1,           1,           1,           1,           1,           1,           1,           1,           1,           1,           1,           1,           1,           1,\n",
              "                  1,           1,           1,           1,           1,           1,           1,           1,           1,           1,           1,           1,           1,           1,           1,           1,           1,           1,           1,           1,           1,           1,           1,\n",
              "                  1,           1,           1,           1,           1,           1,           1,           1,           1,           1,           1,           1,           1,           1,           1,           1,           1,           1,           1,           1,           1,           1,           1,\n",
              "                  1,           1,           1,           1,           1,           1,           1,           1,           1,           1,           1,           1,           1,           1,           1,           1,           1,           1,           1,           1,           1,           1,           1,\n",
              "                  1,           1,           1,           1,           1,           1,           1,           1,           1,           1,           1,           1,           1,           1,           1,           1,           1,           1,           1,           1,           1,           1,           1,\n",
              "                  1,           1,           1,           1,           1,           1,           1,           1,           1,           1,           1,           1,           1,           1,           1,           1,           1,           1,           1,           1,           1,           1,           1,\n",
              "                  1,           1,           1,           1,           1,           1,           1,           1,           1,           1,           1,           1,           1,           1,           1,           1,           1,           1,           1,           1,           1,           1,           1,\n",
              "                  1,           1,           1,           1,           1,           1,           1,           1,           1,           1,           1,           1,           1,           1,           1,           1,           1,           1,           1,           1,           1,           1,           1,\n",
              "                  1,           1,           1,           1,           1,           1,           1,           1,           1,           1,           1,           1,           1,           1,           1,           1,           1,           1,           1,           1,           1,           1,     0.96667,\n",
              "            0.96667,     0.96667,     0.96667,     0.96667,     0.96667,     0.96667,     0.96667,     0.96667,     0.96667,     0.96667,     0.96667,     0.96667,     0.96667,     0.96667,     0.96667,     0.96667,     0.96667,     0.96667,     0.96667,     0.96667,     0.96667,     0.96667,     0.96667,\n",
              "            0.96667,     0.96667,     0.96667,     0.96667,     0.96667,     0.96667,     0.96667,     0.96667,     0.96667,     0.96667,           0]]), 'Recall', 'Precision'], [array([          0,    0.001001,    0.002002,    0.003003,    0.004004,    0.005005,    0.006006,    0.007007,    0.008008,    0.009009,     0.01001,    0.011011,    0.012012,    0.013013,    0.014014,    0.015015,    0.016016,    0.017017,    0.018018,    0.019019,     0.02002,    0.021021,    0.022022,    0.023023,\n",
              "          0.024024,    0.025025,    0.026026,    0.027027,    0.028028,    0.029029,     0.03003,    0.031031,    0.032032,    0.033033,    0.034034,    0.035035,    0.036036,    0.037037,    0.038038,    0.039039,     0.04004,    0.041041,    0.042042,    0.043043,    0.044044,    0.045045,    0.046046,    0.047047,\n",
              "          0.048048,    0.049049,     0.05005,    0.051051,    0.052052,    0.053053,    0.054054,    0.055055,    0.056056,    0.057057,    0.058058,    0.059059,     0.06006,    0.061061,    0.062062,    0.063063,    0.064064,    0.065065,    0.066066,    0.067067,    0.068068,    0.069069,     0.07007,    0.071071,\n",
              "          0.072072,    0.073073,    0.074074,    0.075075,    0.076076,    0.077077,    0.078078,    0.079079,     0.08008,    0.081081,    0.082082,    0.083083,    0.084084,    0.085085,    0.086086,    0.087087,    0.088088,    0.089089,     0.09009,    0.091091,    0.092092,    0.093093,    0.094094,    0.095095,\n",
              "          0.096096,    0.097097,    0.098098,    0.099099,      0.1001,      0.1011,      0.1021,      0.1031,      0.1041,     0.10511,     0.10611,     0.10711,     0.10811,     0.10911,     0.11011,     0.11111,     0.11211,     0.11311,     0.11411,     0.11512,     0.11612,     0.11712,     0.11812,     0.11912,\n",
              "           0.12012,     0.12112,     0.12212,     0.12312,     0.12412,     0.12513,     0.12613,     0.12713,     0.12813,     0.12913,     0.13013,     0.13113,     0.13213,     0.13313,     0.13413,     0.13514,     0.13614,     0.13714,     0.13814,     0.13914,     0.14014,     0.14114,     0.14214,     0.14314,\n",
              "           0.14414,     0.14515,     0.14615,     0.14715,     0.14815,     0.14915,     0.15015,     0.15115,     0.15215,     0.15315,     0.15415,     0.15516,     0.15616,     0.15716,     0.15816,     0.15916,     0.16016,     0.16116,     0.16216,     0.16316,     0.16416,     0.16517,     0.16617,     0.16717,\n",
              "           0.16817,     0.16917,     0.17017,     0.17117,     0.17217,     0.17317,     0.17417,     0.17518,     0.17618,     0.17718,     0.17818,     0.17918,     0.18018,     0.18118,     0.18218,     0.18318,     0.18418,     0.18519,     0.18619,     0.18719,     0.18819,     0.18919,     0.19019,     0.19119,\n",
              "           0.19219,     0.19319,     0.19419,      0.1952,      0.1962,      0.1972,      0.1982,      0.1992,      0.2002,      0.2012,      0.2022,      0.2032,      0.2042,     0.20521,     0.20621,     0.20721,     0.20821,     0.20921,     0.21021,     0.21121,     0.21221,     0.21321,     0.21421,     0.21522,\n",
              "           0.21622,     0.21722,     0.21822,     0.21922,     0.22022,     0.22122,     0.22222,     0.22322,     0.22422,     0.22523,     0.22623,     0.22723,     0.22823,     0.22923,     0.23023,     0.23123,     0.23223,     0.23323,     0.23423,     0.23524,     0.23624,     0.23724,     0.23824,     0.23924,\n",
              "           0.24024,     0.24124,     0.24224,     0.24324,     0.24424,     0.24525,     0.24625,     0.24725,     0.24825,     0.24925,     0.25025,     0.25125,     0.25225,     0.25325,     0.25425,     0.25526,     0.25626,     0.25726,     0.25826,     0.25926,     0.26026,     0.26126,     0.26226,     0.26326,\n",
              "           0.26426,     0.26527,     0.26627,     0.26727,     0.26827,     0.26927,     0.27027,     0.27127,     0.27227,     0.27327,     0.27427,     0.27528,     0.27628,     0.27728,     0.27828,     0.27928,     0.28028,     0.28128,     0.28228,     0.28328,     0.28428,     0.28529,     0.28629,     0.28729,\n",
              "           0.28829,     0.28929,     0.29029,     0.29129,     0.29229,     0.29329,     0.29429,      0.2953,      0.2963,      0.2973,      0.2983,      0.2993,      0.3003,      0.3013,      0.3023,      0.3033,      0.3043,     0.30531,     0.30631,     0.30731,     0.30831,     0.30931,     0.31031,     0.31131,\n",
              "           0.31231,     0.31331,     0.31431,     0.31532,     0.31632,     0.31732,     0.31832,     0.31932,     0.32032,     0.32132,     0.32232,     0.32332,     0.32432,     0.32533,     0.32633,     0.32733,     0.32833,     0.32933,     0.33033,     0.33133,     0.33233,     0.33333,     0.33433,     0.33534,\n",
              "           0.33634,     0.33734,     0.33834,     0.33934,     0.34034,     0.34134,     0.34234,     0.34334,     0.34434,     0.34535,     0.34635,     0.34735,     0.34835,     0.34935,     0.35035,     0.35135,     0.35235,     0.35335,     0.35435,     0.35536,     0.35636,     0.35736,     0.35836,     0.35936,\n",
              "           0.36036,     0.36136,     0.36236,     0.36336,     0.36436,     0.36537,     0.36637,     0.36737,     0.36837,     0.36937,     0.37037,     0.37137,     0.37237,     0.37337,     0.37437,     0.37538,     0.37638,     0.37738,     0.37838,     0.37938,     0.38038,     0.38138,     0.38238,     0.38338,\n",
              "           0.38438,     0.38539,     0.38639,     0.38739,     0.38839,     0.38939,     0.39039,     0.39139,     0.39239,     0.39339,     0.39439,      0.3954,      0.3964,      0.3974,      0.3984,      0.3994,      0.4004,      0.4014,      0.4024,      0.4034,      0.4044,     0.40541,     0.40641,     0.40741,\n",
              "           0.40841,     0.40941,     0.41041,     0.41141,     0.41241,     0.41341,     0.41441,     0.41542,     0.41642,     0.41742,     0.41842,     0.41942,     0.42042,     0.42142,     0.42242,     0.42342,     0.42442,     0.42543,     0.42643,     0.42743,     0.42843,     0.42943,     0.43043,     0.43143,\n",
              "           0.43243,     0.43343,     0.43443,     0.43544,     0.43644,     0.43744,     0.43844,     0.43944,     0.44044,     0.44144,     0.44244,     0.44344,     0.44444,     0.44545,     0.44645,     0.44745,     0.44845,     0.44945,     0.45045,     0.45145,     0.45245,     0.45345,     0.45445,     0.45546,\n",
              "           0.45646,     0.45746,     0.45846,     0.45946,     0.46046,     0.46146,     0.46246,     0.46346,     0.46446,     0.46547,     0.46647,     0.46747,     0.46847,     0.46947,     0.47047,     0.47147,     0.47247,     0.47347,     0.47447,     0.47548,     0.47648,     0.47748,     0.47848,     0.47948,\n",
              "           0.48048,     0.48148,     0.48248,     0.48348,     0.48448,     0.48549,     0.48649,     0.48749,     0.48849,     0.48949,     0.49049,     0.49149,     0.49249,     0.49349,     0.49449,      0.4955,      0.4965,      0.4975,      0.4985,      0.4995,      0.5005,      0.5015,      0.5025,      0.5035,\n",
              "            0.5045,     0.50551,     0.50651,     0.50751,     0.50851,     0.50951,     0.51051,     0.51151,     0.51251,     0.51351,     0.51451,     0.51552,     0.51652,     0.51752,     0.51852,     0.51952,     0.52052,     0.52152,     0.52252,     0.52352,     0.52452,     0.52553,     0.52653,     0.52753,\n",
              "           0.52853,     0.52953,     0.53053,     0.53153,     0.53253,     0.53353,     0.53453,     0.53554,     0.53654,     0.53754,     0.53854,     0.53954,     0.54054,     0.54154,     0.54254,     0.54354,     0.54454,     0.54555,     0.54655,     0.54755,     0.54855,     0.54955,     0.55055,     0.55155,\n",
              "           0.55255,     0.55355,     0.55455,     0.55556,     0.55656,     0.55756,     0.55856,     0.55956,     0.56056,     0.56156,     0.56256,     0.56356,     0.56456,     0.56557,     0.56657,     0.56757,     0.56857,     0.56957,     0.57057,     0.57157,     0.57257,     0.57357,     0.57457,     0.57558,\n",
              "           0.57658,     0.57758,     0.57858,     0.57958,     0.58058,     0.58158,     0.58258,     0.58358,     0.58458,     0.58559,     0.58659,     0.58759,     0.58859,     0.58959,     0.59059,     0.59159,     0.59259,     0.59359,     0.59459,      0.5956,      0.5966,      0.5976,      0.5986,      0.5996,\n",
              "            0.6006,      0.6016,      0.6026,      0.6036,      0.6046,     0.60561,     0.60661,     0.60761,     0.60861,     0.60961,     0.61061,     0.61161,     0.61261,     0.61361,     0.61461,     0.61562,     0.61662,     0.61762,     0.61862,     0.61962,     0.62062,     0.62162,     0.62262,     0.62362,\n",
              "           0.62462,     0.62563,     0.62663,     0.62763,     0.62863,     0.62963,     0.63063,     0.63163,     0.63263,     0.63363,     0.63463,     0.63564,     0.63664,     0.63764,     0.63864,     0.63964,     0.64064,     0.64164,     0.64264,     0.64364,     0.64464,     0.64565,     0.64665,     0.64765,\n",
              "           0.64865,     0.64965,     0.65065,     0.65165,     0.65265,     0.65365,     0.65465,     0.65566,     0.65666,     0.65766,     0.65866,     0.65966,     0.66066,     0.66166,     0.66266,     0.66366,     0.66466,     0.66567,     0.66667,     0.66767,     0.66867,     0.66967,     0.67067,     0.67167,\n",
              "           0.67267,     0.67367,     0.67467,     0.67568,     0.67668,     0.67768,     0.67868,     0.67968,     0.68068,     0.68168,     0.68268,     0.68368,     0.68468,     0.68569,     0.68669,     0.68769,     0.68869,     0.68969,     0.69069,     0.69169,     0.69269,     0.69369,     0.69469,      0.6957,\n",
              "            0.6967,      0.6977,      0.6987,      0.6997,      0.7007,      0.7017,      0.7027,      0.7037,      0.7047,     0.70571,     0.70671,     0.70771,     0.70871,     0.70971,     0.71071,     0.71171,     0.71271,     0.71371,     0.71471,     0.71572,     0.71672,     0.71772,     0.71872,     0.71972,\n",
              "           0.72072,     0.72172,     0.72272,     0.72372,     0.72472,     0.72573,     0.72673,     0.72773,     0.72873,     0.72973,     0.73073,     0.73173,     0.73273,     0.73373,     0.73473,     0.73574,     0.73674,     0.73774,     0.73874,     0.73974,     0.74074,     0.74174,     0.74274,     0.74374,\n",
              "           0.74474,     0.74575,     0.74675,     0.74775,     0.74875,     0.74975,     0.75075,     0.75175,     0.75275,     0.75375,     0.75475,     0.75576,     0.75676,     0.75776,     0.75876,     0.75976,     0.76076,     0.76176,     0.76276,     0.76376,     0.76476,     0.76577,     0.76677,     0.76777,\n",
              "           0.76877,     0.76977,     0.77077,     0.77177,     0.77277,     0.77377,     0.77477,     0.77578,     0.77678,     0.77778,     0.77878,     0.77978,     0.78078,     0.78178,     0.78278,     0.78378,     0.78478,     0.78579,     0.78679,     0.78779,     0.78879,     0.78979,     0.79079,     0.79179,\n",
              "           0.79279,     0.79379,     0.79479,      0.7958,      0.7968,      0.7978,      0.7988,      0.7998,      0.8008,      0.8018,      0.8028,      0.8038,      0.8048,     0.80581,     0.80681,     0.80781,     0.80881,     0.80981,     0.81081,     0.81181,     0.81281,     0.81381,     0.81481,     0.81582,\n",
              "           0.81682,     0.81782,     0.81882,     0.81982,     0.82082,     0.82182,     0.82282,     0.82382,     0.82482,     0.82583,     0.82683,     0.82783,     0.82883,     0.82983,     0.83083,     0.83183,     0.83283,     0.83383,     0.83483,     0.83584,     0.83684,     0.83784,     0.83884,     0.83984,\n",
              "           0.84084,     0.84184,     0.84284,     0.84384,     0.84484,     0.84585,     0.84685,     0.84785,     0.84885,     0.84985,     0.85085,     0.85185,     0.85285,     0.85385,     0.85485,     0.85586,     0.85686,     0.85786,     0.85886,     0.85986,     0.86086,     0.86186,     0.86286,     0.86386,\n",
              "           0.86486,     0.86587,     0.86687,     0.86787,     0.86887,     0.86987,     0.87087,     0.87187,     0.87287,     0.87387,     0.87487,     0.87588,     0.87688,     0.87788,     0.87888,     0.87988,     0.88088,     0.88188,     0.88288,     0.88388,     0.88488,     0.88589,     0.88689,     0.88789,\n",
              "           0.88889,     0.88989,     0.89089,     0.89189,     0.89289,     0.89389,     0.89489,      0.8959,      0.8969,      0.8979,      0.8989,      0.8999,      0.9009,      0.9019,      0.9029,      0.9039,      0.9049,     0.90591,     0.90691,     0.90791,     0.90891,     0.90991,     0.91091,     0.91191,\n",
              "           0.91291,     0.91391,     0.91491,     0.91592,     0.91692,     0.91792,     0.91892,     0.91992,     0.92092,     0.92192,     0.92292,     0.92392,     0.92492,     0.92593,     0.92693,     0.92793,     0.92893,     0.92993,     0.93093,     0.93193,     0.93293,     0.93393,     0.93493,     0.93594,\n",
              "           0.93694,     0.93794,     0.93894,     0.93994,     0.94094,     0.94194,     0.94294,     0.94394,     0.94494,     0.94595,     0.94695,     0.94795,     0.94895,     0.94995,     0.95095,     0.95195,     0.95295,     0.95395,     0.95495,     0.95596,     0.95696,     0.95796,     0.95896,     0.95996,\n",
              "           0.96096,     0.96196,     0.96296,     0.96396,     0.96496,     0.96597,     0.96697,     0.96797,     0.96897,     0.96997,     0.97097,     0.97197,     0.97297,     0.97397,     0.97497,     0.97598,     0.97698,     0.97798,     0.97898,     0.97998,     0.98098,     0.98198,     0.98298,     0.98398,\n",
              "           0.98498,     0.98599,     0.98699,     0.98799,     0.98899,     0.98999,     0.99099,     0.99199,     0.99299,     0.99399,     0.99499,       0.996,       0.997,       0.998,       0.999,           1]), array([[  0.0088631,   0.0088631,    0.010113,    0.034379,     0.15504,     0.45386,     0.63403,     0.70006,     0.74083,     0.77105,     0.79982,     0.81884,     0.83762,     0.84367,     0.84763,     0.85157,     0.85791,     0.86547,     0.88058,     0.88648,     0.89231,     0.89551,     0.89868,\n",
              "            0.90184,     0.90498,     0.90841,     0.91202,      0.9156,     0.91917,     0.93566,     0.93677,     0.93788,     0.93899,     0.94009,     0.94119,     0.94229,     0.94339,     0.94448,     0.94557,     0.94666,     0.94775,     0.94883,     0.94992,     0.95112,     0.95295,     0.95477,\n",
              "            0.95659,      0.9584,      0.9602,       0.962,     0.96379,     0.96557,     0.96798,     0.97137,     0.97474,     0.97809,     0.98142,     0.98265,     0.98187,     0.98108,      0.9803,     0.97951,     0.97872,     0.97793,     0.97714,     0.97635,     0.97556,     0.97476,     0.97397,\n",
              "            0.97317,     0.97237,     0.97157,     0.97077,     0.96997,     0.96917,     0.96837,     0.96756,     0.96676,     0.96595,     0.96553,     0.96556,     0.96559,     0.96562,     0.96564,     0.96567,      0.9657,     0.96573,     0.96576,     0.96579,     0.96581,     0.96584,     0.96587,\n",
              "             0.9659,     0.96593,     0.96596,     0.96599,     0.96601,     0.96604,     0.96607,      0.9661,     0.96613,     0.96616,     0.96618,     0.96621,     0.96624,     0.96627,      0.9663,     0.96633,     0.96636,     0.96638,     0.96641,     0.96644,     0.96647,      0.9665,     0.96653,\n",
              "            0.96655,     0.96658,     0.96661,     0.96664,     0.96667,      0.9667,     0.96672,     0.96675,     0.96678,     0.96681,     0.96684,     0.96687,     0.96689,     0.96692,     0.96695,     0.96698,     0.96701,     0.96704,     0.96706,     0.96709,     0.96712,     0.96715,     0.96718,\n",
              "            0.96721,     0.96723,     0.96726,     0.96729,     0.96732,     0.96735,     0.96738,     0.96741,     0.96743,     0.96746,     0.96749,     0.96752,     0.96755,     0.96758,      0.9676,     0.96763,     0.96766,     0.96769,     0.96772,     0.96775,     0.96777,      0.9678,     0.96783,\n",
              "            0.96786,     0.96789,     0.96792,     0.96794,     0.96797,       0.968,     0.96803,     0.96806,     0.96808,     0.96811,     0.96814,     0.96817,      0.9682,     0.96823,     0.96825,     0.96828,     0.96831,     0.96834,     0.96837,      0.9684,     0.96842,     0.96845,     0.96848,\n",
              "            0.96851,     0.96854,     0.96857,     0.96859,     0.96862,     0.96865,     0.96868,     0.96871,     0.96874,     0.96876,     0.96879,     0.96882,     0.96885,     0.96888,     0.96891,     0.96893,     0.96896,     0.96899,     0.96902,     0.96905,     0.96907,      0.9691,     0.96913,\n",
              "            0.96916,     0.96919,     0.96922,     0.96924,     0.96927,      0.9693,     0.96933,     0.96936,     0.96939,     0.96941,     0.96944,     0.96947,      0.9695,     0.96953,     0.96955,     0.96958,     0.96961,     0.96964,     0.96967,      0.9697,     0.96972,     0.96975,     0.96978,\n",
              "            0.96981,     0.96984,     0.96986,     0.96989,     0.96992,     0.96995,     0.96998,     0.97001,     0.97003,     0.97006,     0.97009,     0.97012,     0.97015,     0.97018,      0.9702,     0.97023,     0.97026,     0.97029,     0.97032,     0.97034,     0.97037,      0.9704,     0.97043,\n",
              "            0.97046,     0.97049,     0.97051,     0.97054,     0.97057,      0.9706,     0.97063,     0.97065,     0.97068,     0.97071,     0.97074,     0.97077,     0.97079,     0.97082,     0.97085,     0.97088,     0.97091,     0.97094,     0.97096,     0.97099,     0.97102,     0.97105,     0.97108,\n",
              "             0.9711,     0.97113,     0.97116,     0.97119,     0.97122,     0.97124,     0.97127,      0.9713,     0.97133,     0.97136,     0.97139,     0.97141,     0.97144,     0.97147,      0.9715,     0.97153,     0.97155,     0.97158,     0.97161,     0.97164,     0.97167,     0.97169,     0.97172,\n",
              "            0.97175,     0.97178,     0.97181,     0.97184,     0.97186,     0.97189,     0.97192,     0.97195,     0.97198,       0.972,     0.97203,     0.97206,     0.97209,     0.97212,     0.97214,     0.97217,      0.9722,     0.97223,     0.97226,     0.97228,     0.97231,     0.97234,     0.97237,\n",
              "             0.9724,     0.97242,     0.97245,     0.97248,     0.97251,     0.97254,     0.97256,     0.97259,     0.97262,     0.97265,     0.97268,     0.97271,     0.97273,     0.97276,     0.97279,     0.97282,     0.97285,     0.97287,      0.9729,     0.97293,     0.97296,     0.97299,     0.97301,\n",
              "            0.97304,     0.97307,      0.9731,     0.97313,     0.97315,     0.97318,     0.97321,     0.97324,     0.97327,     0.97329,     0.97332,     0.97335,     0.97338,     0.97341,     0.97343,     0.97346,     0.97349,     0.97352,     0.97355,     0.97357,      0.9736,     0.97363,     0.97366,\n",
              "            0.97369,     0.97371,     0.97374,     0.97377,      0.9738,     0.97383,     0.97385,     0.97388,     0.97391,     0.97394,     0.97397,     0.97399,     0.97402,     0.97405,     0.97408,      0.9741,     0.97413,     0.97416,     0.97419,     0.97422,     0.97424,     0.97427,      0.9743,\n",
              "            0.97433,     0.97436,     0.97438,     0.97441,     0.97444,     0.97447,      0.9745,     0.97452,     0.97455,     0.97458,     0.97461,     0.97464,     0.97466,     0.97469,     0.97472,     0.97475,     0.97478,      0.9748,     0.97483,     0.97486,     0.97489,     0.97491,     0.97494,\n",
              "            0.97497,       0.975,     0.97503,     0.97505,     0.97508,     0.97511,     0.97514,     0.97517,     0.97519,     0.97522,     0.97525,     0.97528,     0.97531,     0.97533,     0.97536,     0.97539,     0.97542,     0.97544,     0.97547,      0.9755,     0.97553,     0.97556,     0.97558,\n",
              "            0.97561,     0.97564,     0.97567,      0.9757,     0.97572,     0.97575,     0.97578,     0.97581,     0.97583,     0.97586,     0.97589,     0.97592,     0.97595,     0.97597,       0.976,     0.97603,     0.97606,     0.97609,     0.97611,     0.97614,     0.97617,      0.9762,     0.97622,\n",
              "            0.97625,     0.97628,     0.97631,     0.97634,     0.97636,     0.97639,     0.97642,     0.97645,     0.97648,      0.9765,     0.97653,     0.97656,     0.97659,     0.97661,     0.97664,     0.97667,      0.9767,     0.97673,     0.97675,     0.97678,     0.97681,     0.97684,     0.97686,\n",
              "            0.97689,     0.97692,     0.97695,     0.97698,       0.977,     0.97703,     0.97706,     0.97709,     0.97711,     0.97714,     0.97717,      0.9772,     0.97723,     0.97725,     0.97728,     0.97731,     0.97734,     0.97736,     0.97739,     0.97742,     0.97745,     0.97748,      0.9775,\n",
              "            0.97753,     0.97756,     0.97759,     0.97761,     0.97764,     0.97767,      0.9777,     0.97773,     0.97775,     0.97778,     0.97781,     0.97784,     0.97786,     0.97789,     0.97792,     0.97795,     0.97797,       0.978,     0.97803,     0.97806,     0.97809,     0.97811,     0.97814,\n",
              "            0.97817,      0.9782,     0.97822,     0.97825,     0.97828,     0.97831,     0.97834,     0.97836,     0.97839,     0.97842,     0.97845,     0.97847,      0.9785,     0.97853,     0.97856,     0.97858,     0.97861,     0.97864,     0.97867,      0.9787,     0.97872,     0.97875,     0.97878,\n",
              "            0.97881,     0.97883,     0.97886,     0.97889,     0.97892,     0.97894,     0.97897,       0.979,     0.97903,     0.97906,     0.97908,     0.97911,     0.97914,     0.97917,     0.97919,     0.97922,     0.97925,     0.97928,      0.9793,     0.97933,     0.97936,     0.97939,     0.97941,\n",
              "            0.97944,     0.97947,      0.9795,     0.97953,     0.97955,     0.97958,     0.97961,     0.97964,     0.97966,     0.97969,     0.97972,     0.97975,     0.97977,      0.9798,     0.97983,     0.97986,     0.97988,     0.97991,     0.97994,     0.97997,     0.97999,     0.98002,     0.98005,\n",
              "            0.98008,     0.98011,     0.98013,     0.98016,     0.98019,     0.98022,     0.98024,     0.98027,      0.9803,     0.98033,     0.98035,     0.98038,     0.98041,     0.98044,     0.98046,     0.98049,     0.98052,     0.98055,     0.98057,      0.9806,     0.98063,     0.98066,     0.98068,\n",
              "            0.98071,     0.98074,     0.98077,     0.98079,     0.98082,     0.98085,     0.98088,     0.98091,     0.98093,     0.98096,     0.98099,     0.98102,     0.98104,     0.98107,      0.9811,     0.98113,     0.98115,     0.98118,     0.98121,     0.98124,     0.98126,     0.98129,     0.98132,\n",
              "            0.98135,     0.98137,      0.9814,     0.98143,     0.98146,     0.98148,     0.98151,     0.98154,     0.98157,     0.98159,     0.98162,     0.98165,     0.98168,      0.9817,     0.98173,     0.98176,     0.98179,     0.98181,     0.98184,     0.98187,      0.9819,     0.98192,     0.98195,\n",
              "            0.98198,     0.98201,     0.98203,     0.98206,     0.98209,     0.98212,     0.98214,     0.98217,      0.9822,     0.98223,     0.98225,     0.98228,     0.98231,     0.98234,     0.98236,     0.98239,     0.98242,     0.98245,      0.9823,     0.98205,     0.98179,     0.98154,     0.98129,\n",
              "            0.98103,     0.98078,     0.98053,     0.98027,     0.98002,     0.97977,     0.97951,     0.97926,     0.97901,     0.97875,      0.9785,     0.97824,     0.97799,     0.97773,     0.97748,     0.97722,     0.97697,     0.97671,     0.97646,      0.9762,     0.97595,     0.97569,     0.97544,\n",
              "            0.97518,     0.97492,     0.97467,     0.97441,     0.97415,      0.9739,     0.97364,     0.97338,     0.97313,     0.97287,     0.97261,     0.97236,      0.9721,     0.97184,     0.97158,     0.97132,     0.97107,     0.97081,     0.97055,     0.97029,     0.97003,     0.96977,     0.96952,\n",
              "            0.96926,       0.969,     0.96874,     0.96848,     0.96822,     0.96796,      0.9677,     0.96744,     0.96718,     0.96692,     0.96666,      0.9664,     0.96614,     0.96588,     0.96562,     0.96536,      0.9651,     0.96484,     0.96457,     0.96431,     0.96362,     0.96287,     0.96213,\n",
              "            0.96138,     0.96063,     0.95988,     0.95913,     0.95838,     0.95763,     0.95688,     0.95612,     0.95537,     0.95461,     0.95385,     0.95309,     0.95233,     0.95157,     0.95081,     0.95004,     0.94928,     0.94851,     0.94775,     0.94698,     0.94621,     0.94544,     0.94465,\n",
              "            0.94386,     0.94308,     0.94229,     0.94149,      0.9407,     0.93991,     0.93911,     0.93832,     0.93752,     0.93672,     0.93592,     0.93512,     0.93432,     0.93351,     0.93271,      0.9319,      0.9311,     0.93029,     0.92948,     0.92867,     0.92786,     0.92704,     0.92623,\n",
              "            0.92521,     0.92408,     0.92294,      0.9218,     0.92066,     0.91951,     0.91836,     0.91721,     0.91606,     0.91491,     0.91375,     0.91259,     0.91143,     0.91026,      0.9091,     0.90793,     0.90675,     0.88418,     0.87786,     0.87147,       0.865,     0.83887,     0.83202,\n",
              "            0.82509,     0.81808,     0.79086,     0.78782,     0.78475,     0.78168,     0.77858,     0.77547,     0.77235,      0.7692,     0.76605,     0.75541,     0.74436,     0.73663,     0.73191,     0.72716,     0.72237,     0.71754,     0.71268,     0.69768,      0.6808,     0.67605,     0.67127,\n",
              "            0.66645,      0.6616,     0.65671,     0.65178,     0.61615,     0.60858,     0.60094,     0.59321,     0.58539,     0.57352,     0.56143,     0.54896,     0.53392,     0.51857,     0.50039,     0.48025,     0.47057,     0.46596,     0.46133,     0.45666,     0.45197,     0.44725,      0.4425,\n",
              "            0.43773,     0.43292,     0.42973,     0.42672,      0.4237,     0.42067,     0.41762,     0.41456,     0.41149,     0.40841,     0.40532,     0.40221,     0.39909,     0.39597,     0.39282,     0.38967,     0.38355,     0.37642,     0.36922,     0.36196,     0.35463,     0.34723,     0.32261,\n",
              "            0.28849,     0.27545,      0.2622,     0.24876,     0.24085,     0.23789,     0.23491,     0.23193,     0.22894,     0.22594,     0.22293,     0.21991,     0.21687,     0.21383,     0.21078,     0.20772,     0.20464,     0.20156,     0.19846,     0.19536,     0.19224,     0.18911,      0.1794,\n",
              "            0.16251,      0.1453,     0.12461,           0,           0,           0,           0,           0,           0,           0,           0,           0,           0,           0,           0,           0,           0,           0,           0,           0,           0,           0,           0,\n",
              "                  0,           0,           0,           0,           0,           0,           0,           0,           0,           0,           0,           0,           0,           0,           0,           0,           0,           0,           0,           0,           0,           0,           0,\n",
              "                  0,           0,           0,           0,           0,           0,           0,           0,           0,           0,           0,           0,           0,           0,           0,           0,           0,           0,           0,           0,           0,           0,           0,\n",
              "                  0,           0,           0,           0,           0,           0,           0,           0,           0,           0,           0]]), 'Confidence', 'F1'], [array([          0,    0.001001,    0.002002,    0.003003,    0.004004,    0.005005,    0.006006,    0.007007,    0.008008,    0.009009,     0.01001,    0.011011,    0.012012,    0.013013,    0.014014,    0.015015,    0.016016,    0.017017,    0.018018,    0.019019,     0.02002,    0.021021,    0.022022,    0.023023,\n",
              "          0.024024,    0.025025,    0.026026,    0.027027,    0.028028,    0.029029,     0.03003,    0.031031,    0.032032,    0.033033,    0.034034,    0.035035,    0.036036,    0.037037,    0.038038,    0.039039,     0.04004,    0.041041,    0.042042,    0.043043,    0.044044,    0.045045,    0.046046,    0.047047,\n",
              "          0.048048,    0.049049,     0.05005,    0.051051,    0.052052,    0.053053,    0.054054,    0.055055,    0.056056,    0.057057,    0.058058,    0.059059,     0.06006,    0.061061,    0.062062,    0.063063,    0.064064,    0.065065,    0.066066,    0.067067,    0.068068,    0.069069,     0.07007,    0.071071,\n",
              "          0.072072,    0.073073,    0.074074,    0.075075,    0.076076,    0.077077,    0.078078,    0.079079,     0.08008,    0.081081,    0.082082,    0.083083,    0.084084,    0.085085,    0.086086,    0.087087,    0.088088,    0.089089,     0.09009,    0.091091,    0.092092,    0.093093,    0.094094,    0.095095,\n",
              "          0.096096,    0.097097,    0.098098,    0.099099,      0.1001,      0.1011,      0.1021,      0.1031,      0.1041,     0.10511,     0.10611,     0.10711,     0.10811,     0.10911,     0.11011,     0.11111,     0.11211,     0.11311,     0.11411,     0.11512,     0.11612,     0.11712,     0.11812,     0.11912,\n",
              "           0.12012,     0.12112,     0.12212,     0.12312,     0.12412,     0.12513,     0.12613,     0.12713,     0.12813,     0.12913,     0.13013,     0.13113,     0.13213,     0.13313,     0.13413,     0.13514,     0.13614,     0.13714,     0.13814,     0.13914,     0.14014,     0.14114,     0.14214,     0.14314,\n",
              "           0.14414,     0.14515,     0.14615,     0.14715,     0.14815,     0.14915,     0.15015,     0.15115,     0.15215,     0.15315,     0.15415,     0.15516,     0.15616,     0.15716,     0.15816,     0.15916,     0.16016,     0.16116,     0.16216,     0.16316,     0.16416,     0.16517,     0.16617,     0.16717,\n",
              "           0.16817,     0.16917,     0.17017,     0.17117,     0.17217,     0.17317,     0.17417,     0.17518,     0.17618,     0.17718,     0.17818,     0.17918,     0.18018,     0.18118,     0.18218,     0.18318,     0.18418,     0.18519,     0.18619,     0.18719,     0.18819,     0.18919,     0.19019,     0.19119,\n",
              "           0.19219,     0.19319,     0.19419,      0.1952,      0.1962,      0.1972,      0.1982,      0.1992,      0.2002,      0.2012,      0.2022,      0.2032,      0.2042,     0.20521,     0.20621,     0.20721,     0.20821,     0.20921,     0.21021,     0.21121,     0.21221,     0.21321,     0.21421,     0.21522,\n",
              "           0.21622,     0.21722,     0.21822,     0.21922,     0.22022,     0.22122,     0.22222,     0.22322,     0.22422,     0.22523,     0.22623,     0.22723,     0.22823,     0.22923,     0.23023,     0.23123,     0.23223,     0.23323,     0.23423,     0.23524,     0.23624,     0.23724,     0.23824,     0.23924,\n",
              "           0.24024,     0.24124,     0.24224,     0.24324,     0.24424,     0.24525,     0.24625,     0.24725,     0.24825,     0.24925,     0.25025,     0.25125,     0.25225,     0.25325,     0.25425,     0.25526,     0.25626,     0.25726,     0.25826,     0.25926,     0.26026,     0.26126,     0.26226,     0.26326,\n",
              "           0.26426,     0.26527,     0.26627,     0.26727,     0.26827,     0.26927,     0.27027,     0.27127,     0.27227,     0.27327,     0.27427,     0.27528,     0.27628,     0.27728,     0.27828,     0.27928,     0.28028,     0.28128,     0.28228,     0.28328,     0.28428,     0.28529,     0.28629,     0.28729,\n",
              "           0.28829,     0.28929,     0.29029,     0.29129,     0.29229,     0.29329,     0.29429,      0.2953,      0.2963,      0.2973,      0.2983,      0.2993,      0.3003,      0.3013,      0.3023,      0.3033,      0.3043,     0.30531,     0.30631,     0.30731,     0.30831,     0.30931,     0.31031,     0.31131,\n",
              "           0.31231,     0.31331,     0.31431,     0.31532,     0.31632,     0.31732,     0.31832,     0.31932,     0.32032,     0.32132,     0.32232,     0.32332,     0.32432,     0.32533,     0.32633,     0.32733,     0.32833,     0.32933,     0.33033,     0.33133,     0.33233,     0.33333,     0.33433,     0.33534,\n",
              "           0.33634,     0.33734,     0.33834,     0.33934,     0.34034,     0.34134,     0.34234,     0.34334,     0.34434,     0.34535,     0.34635,     0.34735,     0.34835,     0.34935,     0.35035,     0.35135,     0.35235,     0.35335,     0.35435,     0.35536,     0.35636,     0.35736,     0.35836,     0.35936,\n",
              "           0.36036,     0.36136,     0.36236,     0.36336,     0.36436,     0.36537,     0.36637,     0.36737,     0.36837,     0.36937,     0.37037,     0.37137,     0.37237,     0.37337,     0.37437,     0.37538,     0.37638,     0.37738,     0.37838,     0.37938,     0.38038,     0.38138,     0.38238,     0.38338,\n",
              "           0.38438,     0.38539,     0.38639,     0.38739,     0.38839,     0.38939,     0.39039,     0.39139,     0.39239,     0.39339,     0.39439,      0.3954,      0.3964,      0.3974,      0.3984,      0.3994,      0.4004,      0.4014,      0.4024,      0.4034,      0.4044,     0.40541,     0.40641,     0.40741,\n",
              "           0.40841,     0.40941,     0.41041,     0.41141,     0.41241,     0.41341,     0.41441,     0.41542,     0.41642,     0.41742,     0.41842,     0.41942,     0.42042,     0.42142,     0.42242,     0.42342,     0.42442,     0.42543,     0.42643,     0.42743,     0.42843,     0.42943,     0.43043,     0.43143,\n",
              "           0.43243,     0.43343,     0.43443,     0.43544,     0.43644,     0.43744,     0.43844,     0.43944,     0.44044,     0.44144,     0.44244,     0.44344,     0.44444,     0.44545,     0.44645,     0.44745,     0.44845,     0.44945,     0.45045,     0.45145,     0.45245,     0.45345,     0.45445,     0.45546,\n",
              "           0.45646,     0.45746,     0.45846,     0.45946,     0.46046,     0.46146,     0.46246,     0.46346,     0.46446,     0.46547,     0.46647,     0.46747,     0.46847,     0.46947,     0.47047,     0.47147,     0.47247,     0.47347,     0.47447,     0.47548,     0.47648,     0.47748,     0.47848,     0.47948,\n",
              "           0.48048,     0.48148,     0.48248,     0.48348,     0.48448,     0.48549,     0.48649,     0.48749,     0.48849,     0.48949,     0.49049,     0.49149,     0.49249,     0.49349,     0.49449,      0.4955,      0.4965,      0.4975,      0.4985,      0.4995,      0.5005,      0.5015,      0.5025,      0.5035,\n",
              "            0.5045,     0.50551,     0.50651,     0.50751,     0.50851,     0.50951,     0.51051,     0.51151,     0.51251,     0.51351,     0.51451,     0.51552,     0.51652,     0.51752,     0.51852,     0.51952,     0.52052,     0.52152,     0.52252,     0.52352,     0.52452,     0.52553,     0.52653,     0.52753,\n",
              "           0.52853,     0.52953,     0.53053,     0.53153,     0.53253,     0.53353,     0.53453,     0.53554,     0.53654,     0.53754,     0.53854,     0.53954,     0.54054,     0.54154,     0.54254,     0.54354,     0.54454,     0.54555,     0.54655,     0.54755,     0.54855,     0.54955,     0.55055,     0.55155,\n",
              "           0.55255,     0.55355,     0.55455,     0.55556,     0.55656,     0.55756,     0.55856,     0.55956,     0.56056,     0.56156,     0.56256,     0.56356,     0.56456,     0.56557,     0.56657,     0.56757,     0.56857,     0.56957,     0.57057,     0.57157,     0.57257,     0.57357,     0.57457,     0.57558,\n",
              "           0.57658,     0.57758,     0.57858,     0.57958,     0.58058,     0.58158,     0.58258,     0.58358,     0.58458,     0.58559,     0.58659,     0.58759,     0.58859,     0.58959,     0.59059,     0.59159,     0.59259,     0.59359,     0.59459,      0.5956,      0.5966,      0.5976,      0.5986,      0.5996,\n",
              "            0.6006,      0.6016,      0.6026,      0.6036,      0.6046,     0.60561,     0.60661,     0.60761,     0.60861,     0.60961,     0.61061,     0.61161,     0.61261,     0.61361,     0.61461,     0.61562,     0.61662,     0.61762,     0.61862,     0.61962,     0.62062,     0.62162,     0.62262,     0.62362,\n",
              "           0.62462,     0.62563,     0.62663,     0.62763,     0.62863,     0.62963,     0.63063,     0.63163,     0.63263,     0.63363,     0.63463,     0.63564,     0.63664,     0.63764,     0.63864,     0.63964,     0.64064,     0.64164,     0.64264,     0.64364,     0.64464,     0.64565,     0.64665,     0.64765,\n",
              "           0.64865,     0.64965,     0.65065,     0.65165,     0.65265,     0.65365,     0.65465,     0.65566,     0.65666,     0.65766,     0.65866,     0.65966,     0.66066,     0.66166,     0.66266,     0.66366,     0.66466,     0.66567,     0.66667,     0.66767,     0.66867,     0.66967,     0.67067,     0.67167,\n",
              "           0.67267,     0.67367,     0.67467,     0.67568,     0.67668,     0.67768,     0.67868,     0.67968,     0.68068,     0.68168,     0.68268,     0.68368,     0.68468,     0.68569,     0.68669,     0.68769,     0.68869,     0.68969,     0.69069,     0.69169,     0.69269,     0.69369,     0.69469,      0.6957,\n",
              "            0.6967,      0.6977,      0.6987,      0.6997,      0.7007,      0.7017,      0.7027,      0.7037,      0.7047,     0.70571,     0.70671,     0.70771,     0.70871,     0.70971,     0.71071,     0.71171,     0.71271,     0.71371,     0.71471,     0.71572,     0.71672,     0.71772,     0.71872,     0.71972,\n",
              "           0.72072,     0.72172,     0.72272,     0.72372,     0.72472,     0.72573,     0.72673,     0.72773,     0.72873,     0.72973,     0.73073,     0.73173,     0.73273,     0.73373,     0.73473,     0.73574,     0.73674,     0.73774,     0.73874,     0.73974,     0.74074,     0.74174,     0.74274,     0.74374,\n",
              "           0.74474,     0.74575,     0.74675,     0.74775,     0.74875,     0.74975,     0.75075,     0.75175,     0.75275,     0.75375,     0.75475,     0.75576,     0.75676,     0.75776,     0.75876,     0.75976,     0.76076,     0.76176,     0.76276,     0.76376,     0.76476,     0.76577,     0.76677,     0.76777,\n",
              "           0.76877,     0.76977,     0.77077,     0.77177,     0.77277,     0.77377,     0.77477,     0.77578,     0.77678,     0.77778,     0.77878,     0.77978,     0.78078,     0.78178,     0.78278,     0.78378,     0.78478,     0.78579,     0.78679,     0.78779,     0.78879,     0.78979,     0.79079,     0.79179,\n",
              "           0.79279,     0.79379,     0.79479,      0.7958,      0.7968,      0.7978,      0.7988,      0.7998,      0.8008,      0.8018,      0.8028,      0.8038,      0.8048,     0.80581,     0.80681,     0.80781,     0.80881,     0.80981,     0.81081,     0.81181,     0.81281,     0.81381,     0.81481,     0.81582,\n",
              "           0.81682,     0.81782,     0.81882,     0.81982,     0.82082,     0.82182,     0.82282,     0.82382,     0.82482,     0.82583,     0.82683,     0.82783,     0.82883,     0.82983,     0.83083,     0.83183,     0.83283,     0.83383,     0.83483,     0.83584,     0.83684,     0.83784,     0.83884,     0.83984,\n",
              "           0.84084,     0.84184,     0.84284,     0.84384,     0.84484,     0.84585,     0.84685,     0.84785,     0.84885,     0.84985,     0.85085,     0.85185,     0.85285,     0.85385,     0.85485,     0.85586,     0.85686,     0.85786,     0.85886,     0.85986,     0.86086,     0.86186,     0.86286,     0.86386,\n",
              "           0.86486,     0.86587,     0.86687,     0.86787,     0.86887,     0.86987,     0.87087,     0.87187,     0.87287,     0.87387,     0.87487,     0.87588,     0.87688,     0.87788,     0.87888,     0.87988,     0.88088,     0.88188,     0.88288,     0.88388,     0.88488,     0.88589,     0.88689,     0.88789,\n",
              "           0.88889,     0.88989,     0.89089,     0.89189,     0.89289,     0.89389,     0.89489,      0.8959,      0.8969,      0.8979,      0.8989,      0.8999,      0.9009,      0.9019,      0.9029,      0.9039,      0.9049,     0.90591,     0.90691,     0.90791,     0.90891,     0.90991,     0.91091,     0.91191,\n",
              "           0.91291,     0.91391,     0.91491,     0.91592,     0.91692,     0.91792,     0.91892,     0.91992,     0.92092,     0.92192,     0.92292,     0.92392,     0.92492,     0.92593,     0.92693,     0.92793,     0.92893,     0.92993,     0.93093,     0.93193,     0.93293,     0.93393,     0.93493,     0.93594,\n",
              "           0.93694,     0.93794,     0.93894,     0.93994,     0.94094,     0.94194,     0.94294,     0.94394,     0.94494,     0.94595,     0.94695,     0.94795,     0.94895,     0.94995,     0.95095,     0.95195,     0.95295,     0.95395,     0.95495,     0.95596,     0.95696,     0.95796,     0.95896,     0.95996,\n",
              "           0.96096,     0.96196,     0.96296,     0.96396,     0.96496,     0.96597,     0.96697,     0.96797,     0.96897,     0.96997,     0.97097,     0.97197,     0.97297,     0.97397,     0.97497,     0.97598,     0.97698,     0.97798,     0.97898,     0.97998,     0.98098,     0.98198,     0.98298,     0.98398,\n",
              "           0.98498,     0.98599,     0.98699,     0.98799,     0.98899,     0.98999,     0.99099,     0.99199,     0.99299,     0.99399,     0.99499,       0.996,       0.997,       0.998,       0.999,           1]), array([[  0.0044513,   0.0044513,   0.0050823,     0.01749,    0.084035,     0.29355,     0.46417,     0.53853,     0.58835,      0.6274,     0.66641,     0.69325,     0.72061,     0.72961,     0.73556,     0.74151,     0.75117,     0.76284,     0.78664,      0.7961,     0.80556,     0.81078,     0.81601,\n",
              "            0.82123,     0.82646,     0.83219,     0.83827,     0.84435,     0.85042,      0.8791,     0.88106,     0.88303,     0.88499,     0.88695,     0.88891,     0.89088,     0.89284,      0.8948,     0.89676,     0.89873,     0.90069,     0.90265,     0.90461,      0.9068,     0.91013,     0.91346,\n",
              "            0.91679,     0.92012,     0.92345,     0.92678,     0.93011,     0.93344,     0.93795,     0.94434,     0.95073,     0.95713,     0.96352,     0.96664,     0.96659,     0.96654,     0.96648,     0.96643,     0.96638,     0.96633,     0.96628,     0.96622,     0.96617,     0.96612,     0.96607,\n",
              "            0.96601,     0.96596,     0.96591,     0.96586,     0.96581,     0.96575,      0.9657,     0.96565,      0.9656,     0.96555,     0.96554,      0.9656,     0.96566,     0.96571,     0.96577,     0.96583,     0.96589,     0.96594,       0.966,     0.96606,     0.96611,     0.96617,     0.96623,\n",
              "            0.96628,     0.96634,      0.9664,     0.96645,     0.96651,     0.96657,     0.96663,     0.96668,     0.96674,      0.9668,     0.96685,     0.96691,     0.96697,     0.96702,     0.96708,     0.96714,     0.96719,     0.96725,     0.96731,     0.96737,     0.96742,     0.96748,     0.96754,\n",
              "            0.96759,     0.96765,     0.96771,     0.96776,     0.96782,     0.96788,     0.96793,     0.96799,     0.96805,     0.96811,     0.96816,     0.96822,     0.96828,     0.96833,     0.96839,     0.96845,      0.9685,     0.96856,     0.96862,     0.96867,     0.96873,     0.96879,     0.96884,\n",
              "             0.9689,     0.96896,     0.96902,     0.96907,     0.96913,     0.96919,     0.96924,      0.9693,     0.96936,     0.96941,     0.96947,     0.96953,     0.96958,     0.96964,      0.9697,     0.96976,     0.96981,     0.96987,     0.96993,     0.96998,     0.97004,      0.9701,     0.97015,\n",
              "            0.97021,     0.97027,     0.97032,     0.97038,     0.97044,      0.9705,     0.97055,     0.97061,     0.97067,     0.97072,     0.97078,     0.97084,     0.97089,     0.97095,     0.97101,     0.97106,     0.97112,     0.97118,     0.97124,     0.97129,     0.97135,     0.97141,     0.97146,\n",
              "            0.97152,     0.97158,     0.97163,     0.97169,     0.97175,      0.9718,     0.97186,     0.97192,     0.97198,     0.97203,     0.97209,     0.97215,      0.9722,     0.97226,     0.97232,     0.97237,     0.97243,     0.97249,     0.97254,      0.9726,     0.97266,     0.97272,     0.97277,\n",
              "            0.97283,     0.97289,     0.97294,       0.973,     0.97306,     0.97311,     0.97317,     0.97323,     0.97328,     0.97334,      0.9734,     0.97346,     0.97351,     0.97357,     0.97363,     0.97368,     0.97374,      0.9738,     0.97385,     0.97391,     0.97397,     0.97402,     0.97408,\n",
              "            0.97414,      0.9742,     0.97425,     0.97431,     0.97437,     0.97442,     0.97448,     0.97454,     0.97459,     0.97465,     0.97471,     0.97476,     0.97482,     0.97488,     0.97494,     0.97499,     0.97505,     0.97511,     0.97516,     0.97522,     0.97528,     0.97533,     0.97539,\n",
              "            0.97545,      0.9755,     0.97556,     0.97562,     0.97568,     0.97573,     0.97579,     0.97585,      0.9759,     0.97596,     0.97602,     0.97607,     0.97613,     0.97619,     0.97624,      0.9763,     0.97636,     0.97641,     0.97647,     0.97653,     0.97659,     0.97664,      0.9767,\n",
              "            0.97676,     0.97681,     0.97687,     0.97693,     0.97698,     0.97704,      0.9771,     0.97715,     0.97721,     0.97727,     0.97733,     0.97738,     0.97744,      0.9775,     0.97755,     0.97761,     0.97767,     0.97772,     0.97778,     0.97784,     0.97789,     0.97795,     0.97801,\n",
              "            0.97807,     0.97812,     0.97818,     0.97824,     0.97829,     0.97835,     0.97841,     0.97846,     0.97852,     0.97858,     0.97863,     0.97869,     0.97875,     0.97881,     0.97886,     0.97892,     0.97898,     0.97903,     0.97909,     0.97915,      0.9792,     0.97926,     0.97932,\n",
              "            0.97937,     0.97943,     0.97949,     0.97955,      0.9796,     0.97966,     0.97972,     0.97977,     0.97983,     0.97989,     0.97994,        0.98,     0.98006,     0.98011,     0.98017,     0.98023,     0.98029,     0.98034,      0.9804,     0.98046,     0.98051,     0.98057,     0.98063,\n",
              "            0.98068,     0.98074,      0.9808,     0.98085,     0.98091,     0.98097,     0.98103,     0.98108,     0.98114,      0.9812,     0.98125,     0.98131,     0.98137,     0.98142,     0.98148,     0.98154,     0.98159,     0.98165,     0.98171,     0.98177,     0.98182,     0.98188,     0.98194,\n",
              "            0.98199,     0.98205,     0.98211,     0.98216,     0.98222,     0.98228,     0.98233,     0.98239,     0.98245,     0.98251,     0.98256,     0.98262,     0.98268,     0.98273,     0.98279,     0.98285,      0.9829,     0.98296,     0.98302,     0.98307,     0.98313,     0.98319,     0.98325,\n",
              "             0.9833,     0.98336,     0.98342,     0.98347,     0.98353,     0.98359,     0.98364,      0.9837,     0.98376,     0.98381,     0.98387,     0.98393,     0.98398,     0.98404,      0.9841,     0.98416,     0.98421,     0.98427,     0.98433,     0.98438,     0.98444,      0.9845,     0.98455,\n",
              "            0.98461,     0.98467,     0.98472,     0.98478,     0.98484,      0.9849,     0.98495,     0.98501,     0.98507,     0.98512,     0.98518,     0.98524,     0.98529,     0.98535,     0.98541,     0.98546,     0.98552,     0.98558,     0.98564,     0.98569,     0.98575,     0.98581,     0.98586,\n",
              "            0.98592,     0.98598,     0.98603,     0.98609,     0.98615,      0.9862,     0.98626,     0.98632,     0.98638,     0.98643,     0.98649,     0.98655,      0.9866,     0.98666,     0.98672,     0.98677,     0.98683,     0.98689,     0.98694,       0.987,     0.98706,     0.98712,     0.98717,\n",
              "            0.98723,     0.98729,     0.98734,      0.9874,     0.98746,     0.98751,     0.98757,     0.98763,     0.98768,     0.98774,      0.9878,     0.98786,     0.98791,     0.98797,     0.98803,     0.98808,     0.98814,      0.9882,     0.98825,     0.98831,     0.98837,     0.98842,     0.98848,\n",
              "            0.98854,      0.9886,     0.98865,     0.98871,     0.98877,     0.98882,     0.98888,     0.98894,     0.98899,     0.98905,     0.98911,     0.98916,     0.98922,     0.98928,     0.98934,     0.98939,     0.98945,     0.98951,     0.98956,     0.98962,     0.98968,     0.98973,     0.98979,\n",
              "            0.98985,      0.9899,     0.98996,     0.99002,     0.99008,     0.99013,     0.99019,     0.99025,      0.9903,     0.99036,     0.99042,     0.99047,     0.99053,     0.99059,     0.99064,      0.9907,     0.99076,     0.99082,     0.99087,     0.99093,     0.99099,     0.99104,      0.9911,\n",
              "            0.99116,     0.99121,     0.99127,     0.99133,     0.99138,     0.99144,      0.9915,     0.99155,     0.99161,     0.99167,     0.99173,     0.99178,     0.99184,      0.9919,     0.99195,     0.99201,     0.99207,     0.99212,     0.99218,     0.99224,     0.99229,     0.99235,     0.99241,\n",
              "            0.99247,     0.99252,     0.99258,     0.99264,     0.99269,     0.99275,     0.99281,     0.99286,     0.99292,     0.99298,     0.99303,     0.99309,     0.99315,     0.99321,     0.99326,     0.99332,     0.99338,     0.99343,     0.99349,     0.99355,      0.9936,     0.99366,     0.99372,\n",
              "            0.99377,     0.99383,     0.99389,     0.99395,       0.994,     0.99406,     0.99412,     0.99417,     0.99423,     0.99429,     0.99434,      0.9944,     0.99446,     0.99451,     0.99457,     0.99463,     0.99469,     0.99474,      0.9948,     0.99486,     0.99491,     0.99497,     0.99503,\n",
              "            0.99508,     0.99514,      0.9952,     0.99525,     0.99531,     0.99537,     0.99543,     0.99548,     0.99554,      0.9956,     0.99565,     0.99571,     0.99577,     0.99582,     0.99588,     0.99594,     0.99599,     0.99605,     0.99611,     0.99617,     0.99622,     0.99628,     0.99634,\n",
              "            0.99639,     0.99645,     0.99651,     0.99656,     0.99662,     0.99668,     0.99673,     0.99679,     0.99685,     0.99691,     0.99696,     0.99702,     0.99708,     0.99713,     0.99719,     0.99725,      0.9973,     0.99736,     0.99742,     0.99747,     0.99753,     0.99759,     0.99765,\n",
              "             0.9977,     0.99776,     0.99782,     0.99787,     0.99793,     0.99799,     0.99804,      0.9981,     0.99816,     0.99821,     0.99827,     0.99833,     0.99839,     0.99844,      0.9985,     0.99856,     0.99861,     0.99867,     0.99873,     0.99878,     0.99884,      0.9989,     0.99895,\n",
              "            0.99901,     0.99907,     0.99912,     0.99918,     0.99924,      0.9993,     0.99935,     0.99941,     0.99947,     0.99952,     0.99958,     0.99964,     0.99969,     0.99975,     0.99981,     0.99986,     0.99992,     0.99998,           1,           1,           1,           1,           1,\n",
              "                  1,           1,           1,           1,           1,           1,           1,           1,           1,           1,           1,           1,           1,           1,           1,           1,           1,           1,           1,           1,           1,           1,           1,\n",
              "                  1,           1,           1,           1,           1,           1,           1,           1,           1,           1,           1,           1,           1,           1,           1,           1,           1,           1,           1,           1,           1,           1,           1,\n",
              "                  1,           1,           1,           1,           1,           1,           1,           1,           1,           1,           1,           1,           1,           1,           1,           1,           1,           1,           1,           1,           1,           1,           1,\n",
              "                  1,           1,           1,           1,           1,           1,           1,           1,           1,           1,           1,           1,           1,           1,           1,           1,           1,           1,           1,           1,           1,           1,           1,\n",
              "                  1,           1,           1,           1,           1,           1,           1,           1,           1,           1,           1,           1,           1,           1,           1,           1,           1,           1,           1,           1,           1,           1,           1,\n",
              "                  1,           1,           1,           1,           1,           1,           1,           1,           1,           1,           1,           1,           1,           1,           1,           1,           1,           1,           1,           1,           1,           1,           1,\n",
              "                  1,           1,           1,           1,           1,           1,           1,           1,           1,           1,           1,           1,           1,           1,           1,           1,           1,           1,           1,           1,           1,           1,           1,\n",
              "                  1,           1,           1,           1,           1,           1,           1,           1,           1,           1,           1,           1,           1,           1,           1,           1,           1,           1,           1,           1,           1,           1,           1,\n",
              "                  1,           1,           1,           1,           1,           1,           1,           1,           1,           1,           1,           1,           1,           1,           1,           1,           1,           1,           1,           1,           1,           1,           1,\n",
              "                  1,           1,           1,           1,           1,           1,           1,           1,           1,           1,           1,           1,           1,           1,           1,           1,           1,           1,           1,           1,           1,           1,           1,\n",
              "                  1,           1,           1,           1,           1,           1,           1,           1,           1,           1,           1,           1,           1,           1,           1,           1,           1,           1,           1,           1,           1,           1,           1,\n",
              "                  1,           1,           1,           1,           1,           1,           1,           1,           1,           1,           1,           1,           1,           1,           1,           1,           1,           1,           1,           1,           1,           1,           1,\n",
              "                  1,           1,           1,           1,           1,           1,           1,           1,           1,           1,           1,           1,           1,           1,           1,           1,           1,           1,           1,           1,           1,           1,           1,\n",
              "                  1,           1,           1,           1,           1,           1,           1,           1,           1,           1,           1]]), 'Confidence', 'Precision'], [array([          0,    0.001001,    0.002002,    0.003003,    0.004004,    0.005005,    0.006006,    0.007007,    0.008008,    0.009009,     0.01001,    0.011011,    0.012012,    0.013013,    0.014014,    0.015015,    0.016016,    0.017017,    0.018018,    0.019019,     0.02002,    0.021021,    0.022022,    0.023023,\n",
              "          0.024024,    0.025025,    0.026026,    0.027027,    0.028028,    0.029029,     0.03003,    0.031031,    0.032032,    0.033033,    0.034034,    0.035035,    0.036036,    0.037037,    0.038038,    0.039039,     0.04004,    0.041041,    0.042042,    0.043043,    0.044044,    0.045045,    0.046046,    0.047047,\n",
              "          0.048048,    0.049049,     0.05005,    0.051051,    0.052052,    0.053053,    0.054054,    0.055055,    0.056056,    0.057057,    0.058058,    0.059059,     0.06006,    0.061061,    0.062062,    0.063063,    0.064064,    0.065065,    0.066066,    0.067067,    0.068068,    0.069069,     0.07007,    0.071071,\n",
              "          0.072072,    0.073073,    0.074074,    0.075075,    0.076076,    0.077077,    0.078078,    0.079079,     0.08008,    0.081081,    0.082082,    0.083083,    0.084084,    0.085085,    0.086086,    0.087087,    0.088088,    0.089089,     0.09009,    0.091091,    0.092092,    0.093093,    0.094094,    0.095095,\n",
              "          0.096096,    0.097097,    0.098098,    0.099099,      0.1001,      0.1011,      0.1021,      0.1031,      0.1041,     0.10511,     0.10611,     0.10711,     0.10811,     0.10911,     0.11011,     0.11111,     0.11211,     0.11311,     0.11411,     0.11512,     0.11612,     0.11712,     0.11812,     0.11912,\n",
              "           0.12012,     0.12112,     0.12212,     0.12312,     0.12412,     0.12513,     0.12613,     0.12713,     0.12813,     0.12913,     0.13013,     0.13113,     0.13213,     0.13313,     0.13413,     0.13514,     0.13614,     0.13714,     0.13814,     0.13914,     0.14014,     0.14114,     0.14214,     0.14314,\n",
              "           0.14414,     0.14515,     0.14615,     0.14715,     0.14815,     0.14915,     0.15015,     0.15115,     0.15215,     0.15315,     0.15415,     0.15516,     0.15616,     0.15716,     0.15816,     0.15916,     0.16016,     0.16116,     0.16216,     0.16316,     0.16416,     0.16517,     0.16617,     0.16717,\n",
              "           0.16817,     0.16917,     0.17017,     0.17117,     0.17217,     0.17317,     0.17417,     0.17518,     0.17618,     0.17718,     0.17818,     0.17918,     0.18018,     0.18118,     0.18218,     0.18318,     0.18418,     0.18519,     0.18619,     0.18719,     0.18819,     0.18919,     0.19019,     0.19119,\n",
              "           0.19219,     0.19319,     0.19419,      0.1952,      0.1962,      0.1972,      0.1982,      0.1992,      0.2002,      0.2012,      0.2022,      0.2032,      0.2042,     0.20521,     0.20621,     0.20721,     0.20821,     0.20921,     0.21021,     0.21121,     0.21221,     0.21321,     0.21421,     0.21522,\n",
              "           0.21622,     0.21722,     0.21822,     0.21922,     0.22022,     0.22122,     0.22222,     0.22322,     0.22422,     0.22523,     0.22623,     0.22723,     0.22823,     0.22923,     0.23023,     0.23123,     0.23223,     0.23323,     0.23423,     0.23524,     0.23624,     0.23724,     0.23824,     0.23924,\n",
              "           0.24024,     0.24124,     0.24224,     0.24324,     0.24424,     0.24525,     0.24625,     0.24725,     0.24825,     0.24925,     0.25025,     0.25125,     0.25225,     0.25325,     0.25425,     0.25526,     0.25626,     0.25726,     0.25826,     0.25926,     0.26026,     0.26126,     0.26226,     0.26326,\n",
              "           0.26426,     0.26527,     0.26627,     0.26727,     0.26827,     0.26927,     0.27027,     0.27127,     0.27227,     0.27327,     0.27427,     0.27528,     0.27628,     0.27728,     0.27828,     0.27928,     0.28028,     0.28128,     0.28228,     0.28328,     0.28428,     0.28529,     0.28629,     0.28729,\n",
              "           0.28829,     0.28929,     0.29029,     0.29129,     0.29229,     0.29329,     0.29429,      0.2953,      0.2963,      0.2973,      0.2983,      0.2993,      0.3003,      0.3013,      0.3023,      0.3033,      0.3043,     0.30531,     0.30631,     0.30731,     0.30831,     0.30931,     0.31031,     0.31131,\n",
              "           0.31231,     0.31331,     0.31431,     0.31532,     0.31632,     0.31732,     0.31832,     0.31932,     0.32032,     0.32132,     0.32232,     0.32332,     0.32432,     0.32533,     0.32633,     0.32733,     0.32833,     0.32933,     0.33033,     0.33133,     0.33233,     0.33333,     0.33433,     0.33534,\n",
              "           0.33634,     0.33734,     0.33834,     0.33934,     0.34034,     0.34134,     0.34234,     0.34334,     0.34434,     0.34535,     0.34635,     0.34735,     0.34835,     0.34935,     0.35035,     0.35135,     0.35235,     0.35335,     0.35435,     0.35536,     0.35636,     0.35736,     0.35836,     0.35936,\n",
              "           0.36036,     0.36136,     0.36236,     0.36336,     0.36436,     0.36537,     0.36637,     0.36737,     0.36837,     0.36937,     0.37037,     0.37137,     0.37237,     0.37337,     0.37437,     0.37538,     0.37638,     0.37738,     0.37838,     0.37938,     0.38038,     0.38138,     0.38238,     0.38338,\n",
              "           0.38438,     0.38539,     0.38639,     0.38739,     0.38839,     0.38939,     0.39039,     0.39139,     0.39239,     0.39339,     0.39439,      0.3954,      0.3964,      0.3974,      0.3984,      0.3994,      0.4004,      0.4014,      0.4024,      0.4034,      0.4044,     0.40541,     0.40641,     0.40741,\n",
              "           0.40841,     0.40941,     0.41041,     0.41141,     0.41241,     0.41341,     0.41441,     0.41542,     0.41642,     0.41742,     0.41842,     0.41942,     0.42042,     0.42142,     0.42242,     0.42342,     0.42442,     0.42543,     0.42643,     0.42743,     0.42843,     0.42943,     0.43043,     0.43143,\n",
              "           0.43243,     0.43343,     0.43443,     0.43544,     0.43644,     0.43744,     0.43844,     0.43944,     0.44044,     0.44144,     0.44244,     0.44344,     0.44444,     0.44545,     0.44645,     0.44745,     0.44845,     0.44945,     0.45045,     0.45145,     0.45245,     0.45345,     0.45445,     0.45546,\n",
              "           0.45646,     0.45746,     0.45846,     0.45946,     0.46046,     0.46146,     0.46246,     0.46346,     0.46446,     0.46547,     0.46647,     0.46747,     0.46847,     0.46947,     0.47047,     0.47147,     0.47247,     0.47347,     0.47447,     0.47548,     0.47648,     0.47748,     0.47848,     0.47948,\n",
              "           0.48048,     0.48148,     0.48248,     0.48348,     0.48448,     0.48549,     0.48649,     0.48749,     0.48849,     0.48949,     0.49049,     0.49149,     0.49249,     0.49349,     0.49449,      0.4955,      0.4965,      0.4975,      0.4985,      0.4995,      0.5005,      0.5015,      0.5025,      0.5035,\n",
              "            0.5045,     0.50551,     0.50651,     0.50751,     0.50851,     0.50951,     0.51051,     0.51151,     0.51251,     0.51351,     0.51451,     0.51552,     0.51652,     0.51752,     0.51852,     0.51952,     0.52052,     0.52152,     0.52252,     0.52352,     0.52452,     0.52553,     0.52653,     0.52753,\n",
              "           0.52853,     0.52953,     0.53053,     0.53153,     0.53253,     0.53353,     0.53453,     0.53554,     0.53654,     0.53754,     0.53854,     0.53954,     0.54054,     0.54154,     0.54254,     0.54354,     0.54454,     0.54555,     0.54655,     0.54755,     0.54855,     0.54955,     0.55055,     0.55155,\n",
              "           0.55255,     0.55355,     0.55455,     0.55556,     0.55656,     0.55756,     0.55856,     0.55956,     0.56056,     0.56156,     0.56256,     0.56356,     0.56456,     0.56557,     0.56657,     0.56757,     0.56857,     0.56957,     0.57057,     0.57157,     0.57257,     0.57357,     0.57457,     0.57558,\n",
              "           0.57658,     0.57758,     0.57858,     0.57958,     0.58058,     0.58158,     0.58258,     0.58358,     0.58458,     0.58559,     0.58659,     0.58759,     0.58859,     0.58959,     0.59059,     0.59159,     0.59259,     0.59359,     0.59459,      0.5956,      0.5966,      0.5976,      0.5986,      0.5996,\n",
              "            0.6006,      0.6016,      0.6026,      0.6036,      0.6046,     0.60561,     0.60661,     0.60761,     0.60861,     0.60961,     0.61061,     0.61161,     0.61261,     0.61361,     0.61461,     0.61562,     0.61662,     0.61762,     0.61862,     0.61962,     0.62062,     0.62162,     0.62262,     0.62362,\n",
              "           0.62462,     0.62563,     0.62663,     0.62763,     0.62863,     0.62963,     0.63063,     0.63163,     0.63263,     0.63363,     0.63463,     0.63564,     0.63664,     0.63764,     0.63864,     0.63964,     0.64064,     0.64164,     0.64264,     0.64364,     0.64464,     0.64565,     0.64665,     0.64765,\n",
              "           0.64865,     0.64965,     0.65065,     0.65165,     0.65265,     0.65365,     0.65465,     0.65566,     0.65666,     0.65766,     0.65866,     0.65966,     0.66066,     0.66166,     0.66266,     0.66366,     0.66466,     0.66567,     0.66667,     0.66767,     0.66867,     0.66967,     0.67067,     0.67167,\n",
              "           0.67267,     0.67367,     0.67467,     0.67568,     0.67668,     0.67768,     0.67868,     0.67968,     0.68068,     0.68168,     0.68268,     0.68368,     0.68468,     0.68569,     0.68669,     0.68769,     0.68869,     0.68969,     0.69069,     0.69169,     0.69269,     0.69369,     0.69469,      0.6957,\n",
              "            0.6967,      0.6977,      0.6987,      0.6997,      0.7007,      0.7017,      0.7027,      0.7037,      0.7047,     0.70571,     0.70671,     0.70771,     0.70871,     0.70971,     0.71071,     0.71171,     0.71271,     0.71371,     0.71471,     0.71572,     0.71672,     0.71772,     0.71872,     0.71972,\n",
              "           0.72072,     0.72172,     0.72272,     0.72372,     0.72472,     0.72573,     0.72673,     0.72773,     0.72873,     0.72973,     0.73073,     0.73173,     0.73273,     0.73373,     0.73473,     0.73574,     0.73674,     0.73774,     0.73874,     0.73974,     0.74074,     0.74174,     0.74274,     0.74374,\n",
              "           0.74474,     0.74575,     0.74675,     0.74775,     0.74875,     0.74975,     0.75075,     0.75175,     0.75275,     0.75375,     0.75475,     0.75576,     0.75676,     0.75776,     0.75876,     0.75976,     0.76076,     0.76176,     0.76276,     0.76376,     0.76476,     0.76577,     0.76677,     0.76777,\n",
              "           0.76877,     0.76977,     0.77077,     0.77177,     0.77277,     0.77377,     0.77477,     0.77578,     0.77678,     0.77778,     0.77878,     0.77978,     0.78078,     0.78178,     0.78278,     0.78378,     0.78478,     0.78579,     0.78679,     0.78779,     0.78879,     0.78979,     0.79079,     0.79179,\n",
              "           0.79279,     0.79379,     0.79479,      0.7958,      0.7968,      0.7978,      0.7988,      0.7998,      0.8008,      0.8018,      0.8028,      0.8038,      0.8048,     0.80581,     0.80681,     0.80781,     0.80881,     0.80981,     0.81081,     0.81181,     0.81281,     0.81381,     0.81481,     0.81582,\n",
              "           0.81682,     0.81782,     0.81882,     0.81982,     0.82082,     0.82182,     0.82282,     0.82382,     0.82482,     0.82583,     0.82683,     0.82783,     0.82883,     0.82983,     0.83083,     0.83183,     0.83283,     0.83383,     0.83483,     0.83584,     0.83684,     0.83784,     0.83884,     0.83984,\n",
              "           0.84084,     0.84184,     0.84284,     0.84384,     0.84484,     0.84585,     0.84685,     0.84785,     0.84885,     0.84985,     0.85085,     0.85185,     0.85285,     0.85385,     0.85485,     0.85586,     0.85686,     0.85786,     0.85886,     0.85986,     0.86086,     0.86186,     0.86286,     0.86386,\n",
              "           0.86486,     0.86587,     0.86687,     0.86787,     0.86887,     0.86987,     0.87087,     0.87187,     0.87287,     0.87387,     0.87487,     0.87588,     0.87688,     0.87788,     0.87888,     0.87988,     0.88088,     0.88188,     0.88288,     0.88388,     0.88488,     0.88589,     0.88689,     0.88789,\n",
              "           0.88889,     0.88989,     0.89089,     0.89189,     0.89289,     0.89389,     0.89489,      0.8959,      0.8969,      0.8979,      0.8989,      0.8999,      0.9009,      0.9019,      0.9029,      0.9039,      0.9049,     0.90591,     0.90691,     0.90791,     0.90891,     0.90991,     0.91091,     0.91191,\n",
              "           0.91291,     0.91391,     0.91491,     0.91592,     0.91692,     0.91792,     0.91892,     0.91992,     0.92092,     0.92192,     0.92292,     0.92392,     0.92492,     0.92593,     0.92693,     0.92793,     0.92893,     0.92993,     0.93093,     0.93193,     0.93293,     0.93393,     0.93493,     0.93594,\n",
              "           0.93694,     0.93794,     0.93894,     0.93994,     0.94094,     0.94194,     0.94294,     0.94394,     0.94494,     0.94595,     0.94695,     0.94795,     0.94895,     0.94995,     0.95095,     0.95195,     0.95295,     0.95395,     0.95495,     0.95596,     0.95696,     0.95796,     0.95896,     0.95996,\n",
              "           0.96096,     0.96196,     0.96296,     0.96396,     0.96496,     0.96597,     0.96697,     0.96797,     0.96897,     0.96997,     0.97097,     0.97197,     0.97297,     0.97397,     0.97497,     0.97598,     0.97698,     0.97798,     0.97898,     0.97998,     0.98098,     0.98198,     0.98298,     0.98398,\n",
              "           0.98498,     0.98599,     0.98699,     0.98799,     0.98899,     0.98999,     0.99099,     0.99199,     0.99299,     0.99399,     0.99499,       0.996,       0.997,       0.998,       0.999,           1]), array([[          1,           1,           1,           1,           1,           1,           1,           1,           1,           1,           1,           1,           1,           1,           1,           1,           1,           1,           1,           1,           1,           1,           1,\n",
              "                  1,           1,           1,           1,           1,           1,           1,           1,           1,           1,           1,           1,           1,           1,           1,           1,           1,           1,           1,           1,           1,           1,           1,\n",
              "                  1,           1,           1,           1,           1,           1,           1,           1,           1,           1,           1,     0.99921,     0.99764,     0.99608,     0.99451,     0.99295,     0.99138,     0.98982,     0.98826,     0.98669,     0.98513,     0.98356,       0.982,\n",
              "            0.98043,     0.97887,      0.9773,     0.97574,     0.97418,     0.97261,     0.97105,     0.96948,     0.96792,     0.96635,     0.96552,     0.96552,     0.96552,     0.96552,     0.96552,     0.96552,     0.96552,     0.96552,     0.96552,     0.96552,     0.96552,     0.96552,     0.96552,\n",
              "            0.96552,     0.96552,     0.96552,     0.96552,     0.96552,     0.96552,     0.96552,     0.96552,     0.96552,     0.96552,     0.96552,     0.96552,     0.96552,     0.96552,     0.96552,     0.96552,     0.96552,     0.96552,     0.96552,     0.96552,     0.96552,     0.96552,     0.96552,\n",
              "            0.96552,     0.96552,     0.96552,     0.96552,     0.96552,     0.96552,     0.96552,     0.96552,     0.96552,     0.96552,     0.96552,     0.96552,     0.96552,     0.96552,     0.96552,     0.96552,     0.96552,     0.96552,     0.96552,     0.96552,     0.96552,     0.96552,     0.96552,\n",
              "            0.96552,     0.96552,     0.96552,     0.96552,     0.96552,     0.96552,     0.96552,     0.96552,     0.96552,     0.96552,     0.96552,     0.96552,     0.96552,     0.96552,     0.96552,     0.96552,     0.96552,     0.96552,     0.96552,     0.96552,     0.96552,     0.96552,     0.96552,\n",
              "            0.96552,     0.96552,     0.96552,     0.96552,     0.96552,     0.96552,     0.96552,     0.96552,     0.96552,     0.96552,     0.96552,     0.96552,     0.96552,     0.96552,     0.96552,     0.96552,     0.96552,     0.96552,     0.96552,     0.96552,     0.96552,     0.96552,     0.96552,\n",
              "            0.96552,     0.96552,     0.96552,     0.96552,     0.96552,     0.96552,     0.96552,     0.96552,     0.96552,     0.96552,     0.96552,     0.96552,     0.96552,     0.96552,     0.96552,     0.96552,     0.96552,     0.96552,     0.96552,     0.96552,     0.96552,     0.96552,     0.96552,\n",
              "            0.96552,     0.96552,     0.96552,     0.96552,     0.96552,     0.96552,     0.96552,     0.96552,     0.96552,     0.96552,     0.96552,     0.96552,     0.96552,     0.96552,     0.96552,     0.96552,     0.96552,     0.96552,     0.96552,     0.96552,     0.96552,     0.96552,     0.96552,\n",
              "            0.96552,     0.96552,     0.96552,     0.96552,     0.96552,     0.96552,     0.96552,     0.96552,     0.96552,     0.96552,     0.96552,     0.96552,     0.96552,     0.96552,     0.96552,     0.96552,     0.96552,     0.96552,     0.96552,     0.96552,     0.96552,     0.96552,     0.96552,\n",
              "            0.96552,     0.96552,     0.96552,     0.96552,     0.96552,     0.96552,     0.96552,     0.96552,     0.96552,     0.96552,     0.96552,     0.96552,     0.96552,     0.96552,     0.96552,     0.96552,     0.96552,     0.96552,     0.96552,     0.96552,     0.96552,     0.96552,     0.96552,\n",
              "            0.96552,     0.96552,     0.96552,     0.96552,     0.96552,     0.96552,     0.96552,     0.96552,     0.96552,     0.96552,     0.96552,     0.96552,     0.96552,     0.96552,     0.96552,     0.96552,     0.96552,     0.96552,     0.96552,     0.96552,     0.96552,     0.96552,     0.96552,\n",
              "            0.96552,     0.96552,     0.96552,     0.96552,     0.96552,     0.96552,     0.96552,     0.96552,     0.96552,     0.96552,     0.96552,     0.96552,     0.96552,     0.96552,     0.96552,     0.96552,     0.96552,     0.96552,     0.96552,     0.96552,     0.96552,     0.96552,     0.96552,\n",
              "            0.96552,     0.96552,     0.96552,     0.96552,     0.96552,     0.96552,     0.96552,     0.96552,     0.96552,     0.96552,     0.96552,     0.96552,     0.96552,     0.96552,     0.96552,     0.96552,     0.96552,     0.96552,     0.96552,     0.96552,     0.96552,     0.96552,     0.96552,\n",
              "            0.96552,     0.96552,     0.96552,     0.96552,     0.96552,     0.96552,     0.96552,     0.96552,     0.96552,     0.96552,     0.96552,     0.96552,     0.96552,     0.96552,     0.96552,     0.96552,     0.96552,     0.96552,     0.96552,     0.96552,     0.96552,     0.96552,     0.96552,\n",
              "            0.96552,     0.96552,     0.96552,     0.96552,     0.96552,     0.96552,     0.96552,     0.96552,     0.96552,     0.96552,     0.96552,     0.96552,     0.96552,     0.96552,     0.96552,     0.96552,     0.96552,     0.96552,     0.96552,     0.96552,     0.96552,     0.96552,     0.96552,\n",
              "            0.96552,     0.96552,     0.96552,     0.96552,     0.96552,     0.96552,     0.96552,     0.96552,     0.96552,     0.96552,     0.96552,     0.96552,     0.96552,     0.96552,     0.96552,     0.96552,     0.96552,     0.96552,     0.96552,     0.96552,     0.96552,     0.96552,     0.96552,\n",
              "            0.96552,     0.96552,     0.96552,     0.96552,     0.96552,     0.96552,     0.96552,     0.96552,     0.96552,     0.96552,     0.96552,     0.96552,     0.96552,     0.96552,     0.96552,     0.96552,     0.96552,     0.96552,     0.96552,     0.96552,     0.96552,     0.96552,     0.96552,\n",
              "            0.96552,     0.96552,     0.96552,     0.96552,     0.96552,     0.96552,     0.96552,     0.96552,     0.96552,     0.96552,     0.96552,     0.96552,     0.96552,     0.96552,     0.96552,     0.96552,     0.96552,     0.96552,     0.96552,     0.96552,     0.96552,     0.96552,     0.96552,\n",
              "            0.96552,     0.96552,     0.96552,     0.96552,     0.96552,     0.96552,     0.96552,     0.96552,     0.96552,     0.96552,     0.96552,     0.96552,     0.96552,     0.96552,     0.96552,     0.96552,     0.96552,     0.96552,     0.96552,     0.96552,     0.96552,     0.96552,     0.96552,\n",
              "            0.96552,     0.96552,     0.96552,     0.96552,     0.96552,     0.96552,     0.96552,     0.96552,     0.96552,     0.96552,     0.96552,     0.96552,     0.96552,     0.96552,     0.96552,     0.96552,     0.96552,     0.96552,     0.96552,     0.96552,     0.96552,     0.96552,     0.96552,\n",
              "            0.96552,     0.96552,     0.96552,     0.96552,     0.96552,     0.96552,     0.96552,     0.96552,     0.96552,     0.96552,     0.96552,     0.96552,     0.96552,     0.96552,     0.96552,     0.96552,     0.96552,     0.96552,     0.96552,     0.96552,     0.96552,     0.96552,     0.96552,\n",
              "            0.96552,     0.96552,     0.96552,     0.96552,     0.96552,     0.96552,     0.96552,     0.96552,     0.96552,     0.96552,     0.96552,     0.96552,     0.96552,     0.96552,     0.96552,     0.96552,     0.96552,     0.96552,     0.96552,     0.96552,     0.96552,     0.96552,     0.96552,\n",
              "            0.96552,     0.96552,     0.96552,     0.96552,     0.96552,     0.96552,     0.96552,     0.96552,     0.96552,     0.96552,     0.96552,     0.96552,     0.96552,     0.96552,     0.96552,     0.96552,     0.96552,     0.96552,     0.96552,     0.96552,     0.96552,     0.96552,     0.96552,\n",
              "            0.96552,     0.96552,     0.96552,     0.96552,     0.96552,     0.96552,     0.96552,     0.96552,     0.96552,     0.96552,     0.96552,     0.96552,     0.96552,     0.96552,     0.96552,     0.96552,     0.96552,     0.96552,     0.96552,     0.96552,     0.96552,     0.96552,     0.96552,\n",
              "            0.96552,     0.96552,     0.96552,     0.96552,     0.96552,     0.96552,     0.96552,     0.96552,     0.96552,     0.96552,     0.96552,     0.96552,     0.96552,     0.96552,     0.96552,     0.96552,     0.96552,     0.96552,     0.96552,     0.96552,     0.96552,     0.96552,     0.96552,\n",
              "            0.96552,     0.96552,     0.96552,     0.96552,     0.96552,     0.96552,     0.96552,     0.96552,     0.96552,     0.96552,     0.96552,     0.96552,     0.96552,     0.96552,     0.96552,     0.96552,     0.96552,     0.96552,     0.96552,     0.96552,     0.96552,     0.96552,     0.96552,\n",
              "            0.96552,     0.96552,     0.96552,     0.96552,     0.96552,     0.96552,     0.96552,     0.96552,     0.96552,     0.96552,     0.96552,     0.96552,     0.96552,     0.96552,     0.96552,     0.96552,     0.96552,     0.96552,     0.96552,     0.96552,     0.96552,     0.96552,     0.96552,\n",
              "            0.96552,     0.96552,     0.96552,     0.96552,     0.96552,     0.96552,     0.96552,     0.96552,     0.96552,     0.96552,     0.96552,     0.96552,     0.96552,     0.96552,     0.96552,     0.96552,     0.96552,     0.96552,     0.96521,     0.96472,     0.96424,     0.96375,     0.96326,\n",
              "            0.96277,     0.96229,      0.9618,     0.96131,     0.96082,     0.96034,     0.95985,     0.95936,     0.95887,     0.95839,      0.9579,     0.95741,     0.95692,     0.95644,     0.95595,     0.95546,     0.95497,     0.95449,       0.954,     0.95351,     0.95302,     0.95254,     0.95205,\n",
              "            0.95156,     0.95107,     0.95059,      0.9501,     0.94961,     0.94912,     0.94864,     0.94815,     0.94766,     0.94717,     0.94669,      0.9462,     0.94571,     0.94522,     0.94474,     0.94425,     0.94376,     0.94327,     0.94279,      0.9423,     0.94181,     0.94132,     0.94084,\n",
              "            0.94035,     0.93986,     0.93937,     0.93889,      0.9384,     0.93791,     0.93742,     0.93694,     0.93645,     0.93596,     0.93547,     0.93499,      0.9345,     0.93401,     0.93352,     0.93304,     0.93255,     0.93206,     0.93157,     0.93108,     0.92979,     0.92841,     0.92702,\n",
              "            0.92563,     0.92425,     0.92286,     0.92148,     0.92009,      0.9187,     0.91732,     0.91593,     0.91454,     0.91316,     0.91177,     0.91039,       0.909,     0.90761,     0.90623,     0.90484,     0.90346,     0.90207,     0.90068,      0.8993,     0.89791,     0.89652,     0.89511,\n",
              "             0.8937,     0.89228,     0.89087,     0.88946,     0.88804,     0.88663,     0.88521,      0.8838,     0.88239,     0.88097,     0.87956,     0.87815,     0.87673,     0.87532,      0.8739,     0.87249,     0.87108,     0.86966,     0.86825,     0.86683,     0.86542,     0.86401,     0.86259,\n",
              "            0.86083,     0.85887,     0.85691,     0.85494,     0.85298,     0.85101,     0.84905,     0.84709,     0.84512,     0.84316,      0.8412,     0.83923,     0.83727,     0.83531,     0.83334,     0.83138,     0.82941,     0.79241,     0.78231,     0.77221,     0.76211,     0.72246,     0.71236,\n",
              "            0.70226,     0.69216,     0.65407,     0.64992,     0.64576,      0.6416,     0.63744,     0.63328,     0.62912,     0.62497,     0.62081,     0.60695,     0.59281,     0.58307,     0.57718,     0.57129,      0.5654,      0.5595,     0.55361,     0.53572,     0.51607,     0.51063,     0.50519,\n",
              "            0.49975,     0.49432,     0.48888,     0.48344,     0.44524,     0.43738,     0.42953,     0.42167,     0.41382,     0.40205,     0.39027,     0.37832,     0.36418,     0.35005,     0.33368,     0.31601,     0.30768,     0.30375,     0.29982,     0.29589,     0.29197,     0.28804,     0.28411,\n",
              "            0.28018,     0.27626,     0.27367,     0.27123,     0.26879,     0.26636,     0.26392,     0.26148,     0.25904,     0.25661,     0.25417,     0.25173,     0.24929,     0.24686,     0.24442,     0.24198,     0.23728,     0.23184,     0.22641,     0.22097,     0.21553,     0.21009,     0.19233,\n",
              "            0.16856,     0.15972,     0.15088,     0.14205,     0.13691,       0.135,     0.13309,     0.13118,     0.12927,     0.12736,     0.12545,     0.12354,     0.12163,     0.11972,      0.1178,     0.11589,     0.11398,     0.11207,     0.11016,     0.10825,     0.10634,     0.10443,    0.098542,\n",
              "           0.088443,    0.078344,    0.066446,           0,           0,           0,           0,           0,           0,           0,           0,           0,           0,           0,           0,           0,           0,           0,           0,           0,           0,           0,           0,\n",
              "                  0,           0,           0,           0,           0,           0,           0,           0,           0,           0,           0,           0,           0,           0,           0,           0,           0,           0,           0,           0,           0,           0,           0,\n",
              "                  0,           0,           0,           0,           0,           0,           0,           0,           0,           0,           0,           0,           0,           0,           0,           0,           0,           0,           0,           0,           0,           0,           0,\n",
              "                  0,           0,           0,           0,           0,           0,           0,           0,           0,           0,           0]]), 'Confidence', 'Recall']]\n",
              "fitness: 0.7728993700528065\n",
              "keys: ['metrics/precision(B)', 'metrics/recall(B)', 'metrics/mAP50(B)', 'metrics/mAP50-95(B)']\n",
              "maps: array([    0.74833,     0.74833,     0.74833])\n",
              "names: {0: 'purple sauce package', 1: 'white sauce package', 2: 'yellow sauce package'}\n",
              "plot: True\n",
              "results_dict: {'metrics/precision(B)': 0.9977020443176254, 'metrics/recall(B)': 0.9655172413793104, 'metrics/mAP50(B)': 0.9940000000000001, 'metrics/mAP50-95(B)': 0.7483326333920072, 'fitness': 0.7728993700528065}\n",
              "save_dir: PosixPath('runs/detect/train')\n",
              "speed: {'preprocess': 0.21788169597757273, 'inference': 2.3331971004091456, 'loss': 0.000468615827889278, 'postprocess': 1.282535750290443}\n",
              "task: 'detect'"
            ]
          },
          "metadata": {},
          "execution_count": 7
        }
      ]
    },
    {
      "cell_type": "code",
      "source": [
        "model.predict(\n",
        "    source='/content/sauce-package-1/test/images',\n",
        "    conf=0.25,\n",
        "    save=True,\n",
        "    save_txt=True,\n",
        "    save_conf=False,\n",
        "    save_crop=True,\n",
        "    visualize=False\n",
        ")"
      ],
      "metadata": {
        "colab": {
          "base_uri": "https://localhost:8080/"
        },
        "id": "igHDKpsbZO9C",
        "outputId": "54e005ed-4cca-4bbf-c4be-66c2a69c9d0c"
      },
      "execution_count": null,
      "outputs": [
        {
          "output_type": "stream",
          "name": "stdout",
          "text": [
            "\n",
            "image 1/14 /content/sauce-package-1/test/images/IMG_7594_jpg.rf.45862522056a9ec1641b3e28f006eb34.jpg: 640x640 1 purple sauce package, 8.7ms\n",
            "image 2/14 /content/sauce-package-1/test/images/IMG_7599_jpg.rf.0f88ef6b58a802aa978772dbb367818d.jpg: 640x640 1 purple sauce package, 7.4ms\n",
            "image 3/14 /content/sauce-package-1/test/images/IMG_7614_jpg.rf.4802ed6e3403590762f0e26c4cd93578.jpg: 640x640 1 purple sauce package, 7.4ms\n",
            "image 4/14 /content/sauce-package-1/test/images/IMG_7623_jpg.rf.742516f8faf5c6cd9f9b39338bed8f0e.jpg: 640x640 1 purple sauce package, 7.4ms\n",
            "image 5/14 /content/sauce-package-1/test/images/IMG_7625_jpg.rf.492d14a98f43419d4a91baef7debd80b.jpg: 640x640 1 purple sauce package, 7.4ms\n",
            "image 6/14 /content/sauce-package-1/test/images/IMG_7640_jpg.rf.7922a06a4759b1047b14ec901b637ebf.jpg: 640x640 1 purple sauce package, 7.5ms\n",
            "image 7/14 /content/sauce-package-1/test/images/IMG_7643_jpg.rf.df113cd10ca3c7c6480557edea097aed.jpg: 640x640 1 purple sauce package, 7.4ms\n",
            "image 8/14 /content/sauce-package-1/test/images/IMG_7645_jpg.rf.9f12bf58169cd0ffeaff823d9848783a.jpg: 640x640 1 purple sauce package, 7.4ms\n",
            "image 9/14 /content/sauce-package-1/test/images/IMG_7647_jpg.rf.f257199741ce42d5d3f1e5eab398bbe0.jpg: 640x640 1 purple sauce package, 8.4ms\n",
            "image 10/14 /content/sauce-package-1/test/images/IMG_7652_jpg.rf.493bb39054a32578e0fc1d5b3cb98325.jpg: 640x640 1 purple sauce package, 7.4ms\n",
            "image 11/14 /content/sauce-package-1/test/images/IMG_7666_jpg.rf.c4686e84e83c0249ed692fc83df24a34.jpg: 640x640 2 purple sauce packages, 7.3ms\n",
            "image 12/14 /content/sauce-package-1/test/images/IMG_7676_jpg.rf.6f775c1c1b504447913dea064afd5c5d.jpg: 640x640 1 purple sauce package, 7.4ms\n",
            "image 13/14 /content/sauce-package-1/test/images/IMG_7706_jpg.rf.bd627efdf1574abd416d6a395148c42d.jpg: 640x640 1 purple sauce package, 7.4ms\n",
            "image 14/14 /content/sauce-package-1/test/images/IMG_7711_jpg.rf.2d0ec2673a8ad4d837a5b970dc9870f0.jpg: 640x640 1 purple sauce package, 7.4ms\n",
            "Speed: 2.2ms preprocess, 7.5ms inference, 1.3ms postprocess per image at shape (1, 3, 640, 640)\n",
            "Results saved to \u001b[1mruns/detect/train2\u001b[0m\n",
            "14 labels saved to runs/detect/train2/labels\n"
          ]
        },
        {
          "output_type": "execute_result",
          "data": {
            "text/plain": [
              "[ultralytics.engine.results.Results object with attributes:\n",
              " \n",
              " boxes: ultralytics.engine.results.Boxes object\n",
              " keypoints: None\n",
              " masks: None\n",
              " names: {0: 'purple sauce package', 1: 'white sauce package', 2: 'yellow sauce package'}\n",
              " obb: None\n",
              " orig_img: array([[[210, 228, 235],\n",
              "         [208, 226, 233],\n",
              "         [206, 224, 231],\n",
              "         ...,\n",
              "         [100, 121, 136],\n",
              "         [ 99, 120, 135],\n",
              "         [ 98, 119, 134]],\n",
              " \n",
              "        [[212, 229, 238],\n",
              "         [212, 229, 238],\n",
              "         [213, 230, 239],\n",
              "         ...,\n",
              "         [101, 122, 137],\n",
              "         [100, 121, 136],\n",
              "         [100, 121, 136]],\n",
              " \n",
              "        [[208, 224, 236],\n",
              "         [209, 225, 237],\n",
              "         [210, 226, 238],\n",
              "         ...,\n",
              "         [102, 123, 138],\n",
              "         [101, 122, 137],\n",
              "         [101, 122, 137]],\n",
              " \n",
              "        ...,\n",
              " \n",
              "        [[ 16,  10,  15],\n",
              "         [ 16,  10,  15],\n",
              "         [ 16,  10,  15],\n",
              "         ...,\n",
              "         [214, 179, 183],\n",
              "         [217, 182, 186],\n",
              "         [219, 184, 188]],\n",
              " \n",
              "        [[ 16,  10,  15],\n",
              "         [ 16,  10,  15],\n",
              "         [ 16,  10,  15],\n",
              "         ...,\n",
              "         [213, 178, 182],\n",
              "         [216, 181, 185],\n",
              "         [218, 183, 187]],\n",
              " \n",
              "        [[ 16,  10,  15],\n",
              "         [ 16,  10,  15],\n",
              "         [ 16,  10,  15],\n",
              "         ...,\n",
              "         [210, 175, 179],\n",
              "         [214, 179, 183],\n",
              "         [216, 181, 185]]], dtype=uint8)\n",
              " orig_shape: (640, 640)\n",
              " path: '/content/sauce-package-1/test/images/IMG_7594_jpg.rf.45862522056a9ec1641b3e28f006eb34.jpg'\n",
              " probs: None\n",
              " save_dir: 'runs/detect/train2'\n",
              " speed: {'preprocess': 2.395153045654297, 'inference': 8.652210235595703, 'postprocess': 2.3331642150878906},\n",
              " ultralytics.engine.results.Results object with attributes:\n",
              " \n",
              " boxes: ultralytics.engine.results.Boxes object\n",
              " keypoints: None\n",
              " masks: None\n",
              " names: {0: 'purple sauce package', 1: 'white sauce package', 2: 'yellow sauce package'}\n",
              " obb: None\n",
              " orig_img: array([[[ 68,  83, 102],\n",
              "         [ 68,  83, 102],\n",
              "         [ 68,  83, 102],\n",
              "         ...,\n",
              "         [156, 155, 171],\n",
              "         [137, 138, 148],\n",
              "         [109, 112, 120]],\n",
              " \n",
              "        [[ 68,  83, 102],\n",
              "         [ 68,  83, 102],\n",
              "         [ 68,  83, 102],\n",
              "         ...,\n",
              "         [145, 145, 159],\n",
              "         [126, 127, 137],\n",
              "         [105, 108, 116]],\n",
              " \n",
              "        [[ 68,  83, 102],\n",
              "         [ 68,  83, 102],\n",
              "         [ 68,  83, 102],\n",
              "         ...,\n",
              "         [128, 128, 140],\n",
              "         [112, 114, 122],\n",
              "         [ 99, 103, 108]],\n",
              " \n",
              "        ...,\n",
              " \n",
              "        [[203, 201, 223],\n",
              "         [203, 201, 223],\n",
              "         [203, 201, 223],\n",
              "         ...,\n",
              "         [209, 173, 179],\n",
              "         [210, 174, 180],\n",
              "         [210, 174, 180]],\n",
              " \n",
              "        [[203, 201, 223],\n",
              "         [203, 201, 223],\n",
              "         [203, 201, 223],\n",
              "         ...,\n",
              "         [208, 172, 178],\n",
              "         [209, 173, 179],\n",
              "         [210, 174, 180]],\n",
              " \n",
              "        [[203, 201, 223],\n",
              "         [203, 201, 223],\n",
              "         [203, 201, 223],\n",
              "         ...,\n",
              "         [208, 172, 178],\n",
              "         [209, 173, 179],\n",
              "         [210, 174, 180]]], dtype=uint8)\n",
              " orig_shape: (640, 640)\n",
              " path: '/content/sauce-package-1/test/images/IMG_7599_jpg.rf.0f88ef6b58a802aa978772dbb367818d.jpg'\n",
              " probs: None\n",
              " save_dir: 'runs/detect/train2'\n",
              " speed: {'preprocess': 2.8247833251953125, 'inference': 7.412433624267578, 'postprocess': 1.3186931610107422},\n",
              " ultralytics.engine.results.Results object with attributes:\n",
              " \n",
              " boxes: ultralytics.engine.results.Boxes object\n",
              " keypoints: None\n",
              " masks: None\n",
              " names: {0: 'purple sauce package', 1: 'white sauce package', 2: 'yellow sauce package'}\n",
              " obb: None\n",
              " orig_img: array([[[194, 211, 224],\n",
              "         [194, 211, 224],\n",
              "         [194, 211, 224],\n",
              "         ...,\n",
              "         [136, 181, 184],\n",
              "         [138, 186, 188],\n",
              "         [141, 189, 191]],\n",
              " \n",
              "        [[194, 211, 224],\n",
              "         [194, 211, 224],\n",
              "         [194, 211, 224],\n",
              "         ...,\n",
              "         [141, 186, 189],\n",
              "         [144, 189, 192],\n",
              "         [147, 192, 195]],\n",
              " \n",
              "        [[194, 211, 224],\n",
              "         [194, 211, 224],\n",
              "         [194, 211, 224],\n",
              "         ...,\n",
              "         [155, 196, 199],\n",
              "         [159, 200, 203],\n",
              "         [160, 203, 206]],\n",
              " \n",
              "        ...,\n",
              " \n",
              "        [[  9,   4,   5],\n",
              "         [  9,   4,   5],\n",
              "         [  9,   4,   5],\n",
              "         ...,\n",
              "         [178, 157, 156],\n",
              "         [179, 158, 157],\n",
              "         [179, 158, 157]],\n",
              " \n",
              "        [[  9,   4,   5],\n",
              "         [  9,   4,   5],\n",
              "         [  9,   4,   5],\n",
              "         ...,\n",
              "         [177, 157, 156],\n",
              "         [178, 158, 157],\n",
              "         [178, 158, 157]],\n",
              " \n",
              "        [[  9,   4,   5],\n",
              "         [  9,   4,   5],\n",
              "         [  9,   4,   5],\n",
              "         ...,\n",
              "         [177, 157, 156],\n",
              "         [178, 158, 157],\n",
              "         [178, 158, 157]]], dtype=uint8)\n",
              " orig_shape: (640, 640)\n",
              " path: '/content/sauce-package-1/test/images/IMG_7614_jpg.rf.4802ed6e3403590762f0e26c4cd93578.jpg'\n",
              " probs: None\n",
              " save_dir: 'runs/detect/train2'\n",
              " speed: {'preprocess': 2.1543502807617188, 'inference': 7.368803024291992, 'postprocess': 1.2345314025878906},\n",
              " ultralytics.engine.results.Results object with attributes:\n",
              " \n",
              " boxes: ultralytics.engine.results.Boxes object\n",
              " keypoints: None\n",
              " masks: None\n",
              " names: {0: 'purple sauce package', 1: 'white sauce package', 2: 'yellow sauce package'}\n",
              " obb: None\n",
              " orig_img: array([[[220, 223, 214],\n",
              "         [214, 217, 208],\n",
              "         [204, 207, 198],\n",
              "         ...,\n",
              "         [132, 164, 163],\n",
              "         [126, 160, 159],\n",
              "         [118, 152, 151]],\n",
              " \n",
              "        [[213, 216, 207],\n",
              "         [206, 209, 200],\n",
              "         [196, 199, 190],\n",
              "         ...,\n",
              "         [131, 163, 162],\n",
              "         [129, 161, 160],\n",
              "         [122, 156, 155]],\n",
              " \n",
              "        [[200, 203, 194],\n",
              "         [194, 197, 188],\n",
              "         [186, 187, 178],\n",
              "         ...,\n",
              "         [129, 162, 158],\n",
              "         [130, 163, 159],\n",
              "         [128, 161, 157]],\n",
              " \n",
              "        ...,\n",
              " \n",
              "        [[ 25,  20,  21],\n",
              "         [ 25,  20,  21],\n",
              "         [ 25,  20,  21],\n",
              "         ...,\n",
              "         [179, 151, 150],\n",
              "         [178, 150, 149],\n",
              "         [178, 150, 149]],\n",
              " \n",
              "        [[ 25,  20,  21],\n",
              "         [ 25,  20,  21],\n",
              "         [ 25,  20,  21],\n",
              "         ...,\n",
              "         [178, 150, 149],\n",
              "         [177, 149, 148],\n",
              "         [177, 149, 148]],\n",
              " \n",
              "        [[ 25,  20,  21],\n",
              "         [ 25,  20,  21],\n",
              "         [ 25,  20,  21],\n",
              "         ...,\n",
              "         [177, 149, 148],\n",
              "         [177, 149, 148],\n",
              "         [177, 149, 148]]], dtype=uint8)\n",
              " orig_shape: (640, 640)\n",
              " path: '/content/sauce-package-1/test/images/IMG_7623_jpg.rf.742516f8faf5c6cd9f9b39338bed8f0e.jpg'\n",
              " probs: None\n",
              " save_dir: 'runs/detect/train2'\n",
              " speed: {'preprocess': 2.8009414672851562, 'inference': 7.366418838500977, 'postprocess': 1.2044906616210938},\n",
              " ultralytics.engine.results.Results object with attributes:\n",
              " \n",
              " boxes: ultralytics.engine.results.Boxes object\n",
              " keypoints: None\n",
              " masks: None\n",
              " names: {0: 'purple sauce package', 1: 'white sauce package', 2: 'yellow sauce package'}\n",
              " obb: None\n",
              " orig_img: array([[[154, 164, 181],\n",
              "         [154, 164, 181],\n",
              "         [154, 164, 181],\n",
              "         ...,\n",
              "         [149, 152, 143],\n",
              "         [149, 152, 143],\n",
              "         [149, 152, 143]],\n",
              " \n",
              "        [[154, 164, 181],\n",
              "         [154, 164, 181],\n",
              "         [154, 164, 181],\n",
              "         ...,\n",
              "         [149, 152, 143],\n",
              "         [149, 152, 143],\n",
              "         [149, 152, 143]],\n",
              " \n",
              "        [[154, 164, 181],\n",
              "         [154, 164, 181],\n",
              "         [154, 164, 181],\n",
              "         ...,\n",
              "         [149, 152, 143],\n",
              "         [149, 152, 143],\n",
              "         [149, 152, 143]],\n",
              " \n",
              "        ...,\n",
              " \n",
              "        [[229, 230, 226],\n",
              "         [229, 230, 226],\n",
              "         [228, 229, 225],\n",
              "         ...,\n",
              "         [117, 104, 112],\n",
              "         [116, 102, 113],\n",
              "         [115, 101, 112]],\n",
              " \n",
              "        [[229, 230, 226],\n",
              "         [229, 230, 226],\n",
              "         [228, 229, 225],\n",
              "         ...,\n",
              "         [114, 100, 111],\n",
              "         [112,  98, 110],\n",
              "         [108,  96, 108]],\n",
              " \n",
              "        [[229, 230, 226],\n",
              "         [229, 230, 226],\n",
              "         [229, 230, 226],\n",
              "         ...,\n",
              "         [113,  99, 110],\n",
              "         [109,  97, 109],\n",
              "         [107,  95, 107]]], dtype=uint8)\n",
              " orig_shape: (640, 640)\n",
              " path: '/content/sauce-package-1/test/images/IMG_7625_jpg.rf.492d14a98f43419d4a91baef7debd80b.jpg'\n",
              " probs: None\n",
              " save_dir: 'runs/detect/train2'\n",
              " speed: {'preprocess': 1.775979995727539, 'inference': 7.369279861450195, 'postprocess': 1.1980533599853516},\n",
              " ultralytics.engine.results.Results object with attributes:\n",
              " \n",
              " boxes: ultralytics.engine.results.Boxes object\n",
              " keypoints: None\n",
              " masks: None\n",
              " names: {0: 'purple sauce package', 1: 'white sauce package', 2: 'yellow sauce package'}\n",
              " obb: None\n",
              " orig_img: array([[[205, 195, 185],\n",
              "         [206, 196, 186],\n",
              "         [206, 196, 186],\n",
              "         ...,\n",
              "         [154, 197, 194],\n",
              "         [152, 195, 192],\n",
              "         [151, 194, 191]],\n",
              " \n",
              "        [[205, 195, 185],\n",
              "         [206, 196, 186],\n",
              "         [206, 196, 186],\n",
              "         ...,\n",
              "         [157, 200, 197],\n",
              "         [156, 199, 196],\n",
              "         [155, 198, 195]],\n",
              " \n",
              "        [[205, 195, 185],\n",
              "         [206, 196, 186],\n",
              "         [206, 196, 186],\n",
              "         ...,\n",
              "         [160, 203, 200],\n",
              "         [159, 202, 199],\n",
              "         [159, 202, 199]],\n",
              " \n",
              "        ...,\n",
              " \n",
              "        [[251, 232, 229],\n",
              "         [251, 232, 229],\n",
              "         [251, 232, 229],\n",
              "         ...,\n",
              "         [211, 180, 181],\n",
              "         [211, 180, 181],\n",
              "         [210, 179, 180]],\n",
              " \n",
              "        [[252, 233, 230],\n",
              "         [252, 233, 230],\n",
              "         [251, 232, 229],\n",
              "         ...,\n",
              "         [211, 180, 181],\n",
              "         [211, 180, 181],\n",
              "         [211, 180, 181]],\n",
              " \n",
              "        [[252, 233, 230],\n",
              "         [252, 233, 230],\n",
              "         [252, 233, 230],\n",
              "         ...,\n",
              "         [212, 181, 182],\n",
              "         [212, 181, 182],\n",
              "         [212, 181, 182]]], dtype=uint8)\n",
              " orig_shape: (640, 640)\n",
              " path: '/content/sauce-package-1/test/images/IMG_7640_jpg.rf.7922a06a4759b1047b14ec901b637ebf.jpg'\n",
              " probs: None\n",
              " save_dir: 'runs/detect/train2'\n",
              " speed: {'preprocess': 1.924753189086914, 'inference': 7.451295852661133, 'postprocess': 1.230001449584961},\n",
              " ultralytics.engine.results.Results object with attributes:\n",
              " \n",
              " boxes: ultralytics.engine.results.Boxes object\n",
              " keypoints: None\n",
              " masks: None\n",
              " names: {0: 'purple sauce package', 1: 'white sauce package', 2: 'yellow sauce package'}\n",
              " obb: None\n",
              " orig_img: array([[[ 81,  95, 113],\n",
              "         [ 81,  95, 113],\n",
              "         [ 81,  95, 113],\n",
              "         ...,\n",
              "         [161, 235, 239],\n",
              "         [160, 237, 240],\n",
              "         [159, 236, 239]],\n",
              " \n",
              "        [[ 80,  94, 112],\n",
              "         [ 80,  94, 112],\n",
              "         [ 81,  95, 113],\n",
              "         ...,\n",
              "         [139, 207, 212],\n",
              "         [132, 203, 207],\n",
              "         [129, 200, 204]],\n",
              " \n",
              "        [[ 79,  93, 111],\n",
              "         [ 79,  93, 111],\n",
              "         [ 80,  94, 112],\n",
              "         ...,\n",
              "         [147, 203, 208],\n",
              "         [152, 210, 215],\n",
              "         [158, 216, 221]],\n",
              " \n",
              "        ...,\n",
              " \n",
              "        [[145, 165, 166],\n",
              "         [147, 167, 168],\n",
              "         [150, 170, 171],\n",
              "         ...,\n",
              "         [220, 201, 198],\n",
              "         [220, 201, 198],\n",
              "         [219, 200, 197]],\n",
              " \n",
              "        [[147, 167, 168],\n",
              "         [148, 168, 169],\n",
              "         [151, 171, 172],\n",
              "         ...,\n",
              "         [220, 201, 198],\n",
              "         [220, 201, 198],\n",
              "         [220, 201, 198]],\n",
              " \n",
              "        [[148, 168, 169],\n",
              "         [149, 169, 170],\n",
              "         [150, 170, 171],\n",
              "         ...,\n",
              "         [219, 200, 197],\n",
              "         [220, 201, 198],\n",
              "         [220, 201, 198]]], dtype=uint8)\n",
              " orig_shape: (640, 640)\n",
              " path: '/content/sauce-package-1/test/images/IMG_7643_jpg.rf.df113cd10ca3c7c6480557edea097aed.jpg'\n",
              " probs: None\n",
              " save_dir: 'runs/detect/train2'\n",
              " speed: {'preprocess': 1.819610595703125, 'inference': 7.373571395874023, 'postprocess': 1.2028217315673828},\n",
              " ultralytics.engine.results.Results object with attributes:\n",
              " \n",
              " boxes: ultralytics.engine.results.Boxes object\n",
              " keypoints: None\n",
              " masks: None\n",
              " names: {0: 'purple sauce package', 1: 'white sauce package', 2: 'yellow sauce package'}\n",
              " obb: None\n",
              " orig_img: array([[[213, 207, 196],\n",
              "         [213, 207, 196],\n",
              "         [215, 207, 194],\n",
              "         ...,\n",
              "         [147, 161, 155],\n",
              "         [146, 160, 154],\n",
              "         [146, 160, 154]],\n",
              " \n",
              "        [[216, 209, 200],\n",
              "         [216, 210, 199],\n",
              "         [218, 209, 199],\n",
              "         ...,\n",
              "         [147, 161, 155],\n",
              "         [146, 160, 154],\n",
              "         [146, 160, 154]],\n",
              " \n",
              "        [[214, 208, 201],\n",
              "         [214, 209, 200],\n",
              "         [217, 210, 201],\n",
              "         ...,\n",
              "         [148, 160, 154],\n",
              "         [148, 160, 154],\n",
              "         [148, 160, 154]],\n",
              " \n",
              "        ...,\n",
              " \n",
              "        [[ 17,  25,  25],\n",
              "         [ 45,  53,  53],\n",
              "         [102, 112, 112],\n",
              "         ...,\n",
              "         [215, 194, 192],\n",
              "         [214, 193, 191],\n",
              "         [214, 193, 191]],\n",
              " \n",
              "        [[ 24,  32,  32],\n",
              "         [ 39,  47,  47],\n",
              "         [ 93, 103, 103],\n",
              "         ...,\n",
              "         [216, 195, 193],\n",
              "         [215, 194, 192],\n",
              "         [215, 194, 192]],\n",
              " \n",
              "        [[ 22,  30,  30],\n",
              "         [ 27,  35,  35],\n",
              "         [ 76,  86,  86],\n",
              "         ...,\n",
              "         [216, 195, 193],\n",
              "         [216, 195, 193],\n",
              "         [216, 195, 193]]], dtype=uint8)\n",
              " orig_shape: (640, 640)\n",
              " path: '/content/sauce-package-1/test/images/IMG_7645_jpg.rf.9f12bf58169cd0ffeaff823d9848783a.jpg'\n",
              " probs: None\n",
              " save_dir: 'runs/detect/train2'\n",
              " speed: {'preprocess': 2.7647018432617188, 'inference': 7.39598274230957, 'postprocess': 1.209259033203125},\n",
              " ultralytics.engine.results.Results object with attributes:\n",
              " \n",
              " boxes: ultralytics.engine.results.Boxes object\n",
              " keypoints: None\n",
              " masks: None\n",
              " names: {0: 'purple sauce package', 1: 'white sauce package', 2: 'yellow sauce package'}\n",
              " obb: None\n",
              " orig_img: array([[[142, 155, 177],\n",
              "         [142, 155, 177],\n",
              "         [142, 155, 177],\n",
              "         ...,\n",
              "         [143, 182, 180],\n",
              "         [143, 182, 180],\n",
              "         [143, 182, 180]],\n",
              " \n",
              "        [[142, 155, 177],\n",
              "         [141, 154, 176],\n",
              "         [141, 154, 176],\n",
              "         ...,\n",
              "         [143, 182, 180],\n",
              "         [143, 182, 180],\n",
              "         [143, 182, 180]],\n",
              " \n",
              "        [[141, 154, 176],\n",
              "         [140, 153, 175],\n",
              "         [140, 153, 175],\n",
              "         ...,\n",
              "         [143, 182, 180],\n",
              "         [143, 182, 180],\n",
              "         [143, 182, 180]],\n",
              " \n",
              "        ...,\n",
              " \n",
              "        [[ 31,  29,  28],\n",
              "         [ 31,  29,  28],\n",
              "         [ 31,  29,  28],\n",
              "         ...,\n",
              "         [178, 154, 154],\n",
              "         [178, 154, 154],\n",
              "         [179, 155, 155]],\n",
              " \n",
              "        [[ 31,  29,  28],\n",
              "         [ 31,  29,  28],\n",
              "         [ 31,  29,  28],\n",
              "         ...,\n",
              "         [179, 155, 155],\n",
              "         [179, 155, 155],\n",
              "         [180, 156, 156]],\n",
              " \n",
              "        [[ 31,  29,  28],\n",
              "         [ 31,  29,  28],\n",
              "         [ 31,  29,  28],\n",
              "         ...,\n",
              "         [179, 155, 155],\n",
              "         [180, 156, 156],\n",
              "         [181, 157, 157]]], dtype=uint8)\n",
              " orig_shape: (640, 640)\n",
              " path: '/content/sauce-package-1/test/images/IMG_7647_jpg.rf.f257199741ce42d5d3f1e5eab398bbe0.jpg'\n",
              " probs: None\n",
              " save_dir: 'runs/detect/train2'\n",
              " speed: {'preprocess': 2.5017261505126953, 'inference': 8.441448211669922, 'postprocess': 1.2164115905761719},\n",
              " ultralytics.engine.results.Results object with attributes:\n",
              " \n",
              " boxes: ultralytics.engine.results.Boxes object\n",
              " keypoints: None\n",
              " masks: None\n",
              " names: {0: 'purple sauce package', 1: 'white sauce package', 2: 'yellow sauce package'}\n",
              " obb: None\n",
              " orig_img: array([[[180, 170, 160],\n",
              "         [180, 170, 160],\n",
              "         [180, 170, 160],\n",
              "         ...,\n",
              "         [174, 207, 210],\n",
              "         [174, 208, 208],\n",
              "         [176, 210, 210]],\n",
              " \n",
              "        [[180, 170, 160],\n",
              "         [180, 170, 160],\n",
              "         [180, 170, 160],\n",
              "         ...,\n",
              "         [172, 205, 208],\n",
              "         [168, 202, 202],\n",
              "         [165, 199, 199]],\n",
              " \n",
              "        [[180, 170, 160],\n",
              "         [180, 170, 160],\n",
              "         [180, 170, 160],\n",
              "         ...,\n",
              "         [174, 205, 206],\n",
              "         [172, 203, 204],\n",
              "         [171, 202, 203]],\n",
              " \n",
              "        ...,\n",
              " \n",
              "        [[241, 220, 219],\n",
              "         [241, 220, 219],\n",
              "         [241, 220, 219],\n",
              "         ...,\n",
              "         [171, 147, 147],\n",
              "         [170, 146, 146],\n",
              "         [170, 146, 146]],\n",
              " \n",
              "        [[241, 220, 219],\n",
              "         [241, 220, 219],\n",
              "         [241, 220, 219],\n",
              "         ...,\n",
              "         [169, 148, 147],\n",
              "         [168, 147, 146],\n",
              "         [167, 146, 145]],\n",
              " \n",
              "        [[241, 220, 219],\n",
              "         [241, 220, 219],\n",
              "         [241, 220, 219],\n",
              "         ...,\n",
              "         [169, 148, 147],\n",
              "         [168, 147, 146],\n",
              "         [167, 146, 145]]], dtype=uint8)\n",
              " orig_shape: (640, 640)\n",
              " path: '/content/sauce-package-1/test/images/IMG_7652_jpg.rf.493bb39054a32578e0fc1d5b3cb98325.jpg'\n",
              " probs: None\n",
              " save_dir: 'runs/detect/train2'\n",
              " speed: {'preprocess': 1.928567886352539, 'inference': 7.353305816650391, 'postprocess': 1.2307167053222656},\n",
              " ultralytics.engine.results.Results object with attributes:\n",
              " \n",
              " boxes: ultralytics.engine.results.Boxes object\n",
              " keypoints: None\n",
              " masks: None\n",
              " names: {0: 'purple sauce package', 1: 'white sauce package', 2: 'yellow sauce package'}\n",
              " obb: None\n",
              " orig_img: array([[[217, 220, 218],\n",
              "         [217, 220, 218],\n",
              "         [216, 219, 217],\n",
              "         ...,\n",
              "         [ 52,  47,  48],\n",
              "         [ 53,  47,  48],\n",
              "         [ 53,  47,  48]],\n",
              " \n",
              "        [[217, 220, 218],\n",
              "         [217, 220, 218],\n",
              "         [216, 219, 217],\n",
              "         ...,\n",
              "         [ 54,  49,  50],\n",
              "         [ 55,  49,  50],\n",
              "         [ 56,  50,  51]],\n",
              " \n",
              "        [[217, 220, 218],\n",
              "         [217, 220, 218],\n",
              "         [217, 220, 218],\n",
              "         ...,\n",
              "         [ 55,  50,  51],\n",
              "         [ 57,  51,  52],\n",
              "         [ 58,  52,  53]],\n",
              " \n",
              "        ...,\n",
              " \n",
              "        [[166, 215, 213],\n",
              "         [166, 215, 213],\n",
              "         [166, 215, 213],\n",
              "         ...,\n",
              "         [202, 167, 171],\n",
              "         [202, 167, 171],\n",
              "         [202, 167, 171]],\n",
              " \n",
              "        [[166, 215, 213],\n",
              "         [166, 215, 213],\n",
              "         [166, 215, 213],\n",
              "         ...,\n",
              "         [201, 168, 172],\n",
              "         [201, 168, 172],\n",
              "         [201, 168, 172]],\n",
              " \n",
              "        [[166, 215, 213],\n",
              "         [166, 215, 213],\n",
              "         [166, 215, 213],\n",
              "         ...,\n",
              "         [201, 168, 172],\n",
              "         [201, 168, 172],\n",
              "         [201, 168, 172]]], dtype=uint8)\n",
              " orig_shape: (640, 640)\n",
              " path: '/content/sauce-package-1/test/images/IMG_7666_jpg.rf.c4686e84e83c0249ed692fc83df24a34.jpg'\n",
              " probs: None\n",
              " save_dir: 'runs/detect/train2'\n",
              " speed: {'preprocess': 1.8427371978759766, 'inference': 7.343292236328125, 'postprocess': 1.1718273162841797},\n",
              " ultralytics.engine.results.Results object with attributes:\n",
              " \n",
              " boxes: ultralytics.engine.results.Boxes object\n",
              " keypoints: None\n",
              " masks: None\n",
              " names: {0: 'purple sauce package', 1: 'white sauce package', 2: 'yellow sauce package'}\n",
              " obb: None\n",
              " orig_img: array([[[219, 220, 218],\n",
              "         [219, 220, 218],\n",
              "         [219, 220, 218],\n",
              "         ...,\n",
              "         [ 58,  53,  52],\n",
              "         [ 58,  53,  52],\n",
              "         [ 58,  53,  52]],\n",
              " \n",
              "        [[219, 220, 218],\n",
              "         [219, 220, 218],\n",
              "         [219, 220, 218],\n",
              "         ...,\n",
              "         [ 58,  53,  52],\n",
              "         [ 58,  53,  52],\n",
              "         [ 58,  53,  52]],\n",
              " \n",
              "        [[219, 220, 218],\n",
              "         [219, 220, 218],\n",
              "         [219, 220, 218],\n",
              "         ...,\n",
              "         [ 58,  53,  52],\n",
              "         [ 58,  53,  52],\n",
              "         [ 58,  53,  52]],\n",
              " \n",
              "        ...,\n",
              " \n",
              "        [[131, 148, 174],\n",
              "         [131, 148, 174],\n",
              "         [131, 148, 174],\n",
              "         ...,\n",
              "         [214, 181, 216],\n",
              "         [215, 182, 217],\n",
              "         [216, 183, 218]],\n",
              " \n",
              "        [[132, 149, 175],\n",
              "         [132, 149, 175],\n",
              "         [132, 149, 175],\n",
              "         ...,\n",
              "         [211, 178, 213],\n",
              "         [214, 181, 216],\n",
              "         [216, 183, 218]],\n",
              " \n",
              "        [[132, 149, 175],\n",
              "         [132, 149, 175],\n",
              "         [132, 149, 175],\n",
              "         ...,\n",
              "         [197, 164, 199],\n",
              "         [202, 169, 204],\n",
              "         [204, 171, 206]]], dtype=uint8)\n",
              " orig_shape: (640, 640)\n",
              " path: '/content/sauce-package-1/test/images/IMG_7676_jpg.rf.6f775c1c1b504447913dea064afd5c5d.jpg'\n",
              " probs: None\n",
              " save_dir: 'runs/detect/train2'\n",
              " speed: {'preprocess': 1.8181800842285156, 'inference': 7.35783576965332, 'postprocess': 1.1715888977050781},\n",
              " ultralytics.engine.results.Results object with attributes:\n",
              " \n",
              " boxes: ultralytics.engine.results.Boxes object\n",
              " keypoints: None\n",
              " masks: None\n",
              " names: {0: 'purple sauce package', 1: 'white sauce package', 2: 'yellow sauce package'}\n",
              " obb: None\n",
              " orig_img: array([[[197, 220, 216],\n",
              "         [197, 220, 216],\n",
              "         [198, 221, 217],\n",
              "         ...,\n",
              "         [148, 186, 190],\n",
              "         [148, 186, 190],\n",
              "         [146, 184, 188]],\n",
              " \n",
              "        [[197, 220, 216],\n",
              "         [197, 220, 216],\n",
              "         [197, 220, 216],\n",
              "         ...,\n",
              "         [152, 190, 194],\n",
              "         [152, 190, 194],\n",
              "         [150, 188, 192]],\n",
              " \n",
              "        [[196, 219, 215],\n",
              "         [196, 219, 215],\n",
              "         [196, 219, 215],\n",
              "         ...,\n",
              "         [152, 190, 194],\n",
              "         [153, 191, 195],\n",
              "         [152, 190, 194]],\n",
              " \n",
              "        ...,\n",
              " \n",
              "        [[ 29,  32,  47],\n",
              "         [ 30,  33,  48],\n",
              "         [ 31,  34,  49],\n",
              "         ...,\n",
              "         [199, 162, 166],\n",
              "         [199, 162, 166],\n",
              "         [200, 163, 167]],\n",
              " \n",
              "        [[ 32,  35,  50],\n",
              "         [ 33,  36,  51],\n",
              "         [ 33,  36,  51],\n",
              "         ...,\n",
              "         [198, 161, 165],\n",
              "         [199, 162, 166],\n",
              "         [199, 162, 166]],\n",
              " \n",
              "        [[ 38,  41,  56],\n",
              "         [ 38,  41,  56],\n",
              "         [ 38,  41,  56],\n",
              "         ...,\n",
              "         [198, 161, 165],\n",
              "         [198, 161, 165],\n",
              "         [199, 162, 166]]], dtype=uint8)\n",
              " orig_shape: (640, 640)\n",
              " path: '/content/sauce-package-1/test/images/IMG_7706_jpg.rf.bd627efdf1574abd416d6a395148c42d.jpg'\n",
              " probs: None\n",
              " save_dir: 'runs/detect/train2'\n",
              " speed: {'preprocess': 1.7952919006347656, 'inference': 7.350683212280273, 'postprocess': 1.1665821075439453},\n",
              " ultralytics.engine.results.Results object with attributes:\n",
              " \n",
              " boxes: ultralytics.engine.results.Boxes object\n",
              " keypoints: None\n",
              " masks: None\n",
              " names: {0: 'purple sauce package', 1: 'white sauce package', 2: 'yellow sauce package'}\n",
              " obb: None\n",
              " orig_img: array([[[197, 187, 177],\n",
              "         [197, 187, 177],\n",
              "         [197, 187, 177],\n",
              "         ...,\n",
              "         [ 71,  74,  78],\n",
              "         [ 72,  75,  79],\n",
              "         [ 72,  75,  79]],\n",
              " \n",
              "        [[197, 187, 177],\n",
              "         [197, 187, 177],\n",
              "         [197, 187, 177],\n",
              "         ...,\n",
              "         [ 73,  78,  81],\n",
              "         [ 77,  82,  85],\n",
              "         [ 80,  85,  88]],\n",
              " \n",
              "        [[199, 187, 177],\n",
              "         [199, 187, 177],\n",
              "         [199, 187, 177],\n",
              "         ...,\n",
              "         [ 61,  68,  71],\n",
              "         [ 65,  72,  75],\n",
              "         [ 67,  74,  77]],\n",
              " \n",
              "        ...,\n",
              " \n",
              "        [[183, 169, 173],\n",
              "         [184, 170, 174],\n",
              "         [184, 170, 174],\n",
              "         ...,\n",
              "         [215, 175, 177],\n",
              "         [215, 175, 177],\n",
              "         [215, 175, 177]],\n",
              " \n",
              "        [[183, 172, 175],\n",
              "         [183, 172, 175],\n",
              "         [182, 171, 173],\n",
              "         ...,\n",
              "         [216, 176, 178],\n",
              "         [216, 176, 178],\n",
              "         [215, 175, 177]],\n",
              " \n",
              "        [[188, 177, 180],\n",
              "         [188, 177, 180],\n",
              "         [187, 176, 178],\n",
              "         ...,\n",
              "         [217, 177, 179],\n",
              "         [216, 176, 178],\n",
              "         [216, 176, 178]]], dtype=uint8)\n",
              " orig_shape: (640, 640)\n",
              " path: '/content/sauce-package-1/test/images/IMG_7711_jpg.rf.2d0ec2673a8ad4d837a5b970dc9870f0.jpg'\n",
              " probs: None\n",
              " save_dir: 'runs/detect/train2'\n",
              " speed: {'preprocess': 1.8265247344970703, 'inference': 7.362127304077148, 'postprocess': 1.1661052703857422}]"
            ]
          },
          "metadata": {},
          "execution_count": 8
        }
      ]
    }
  ]
}